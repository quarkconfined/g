{
  "nbformat": 4,
  "nbformat_minor": 0,
  "metadata": {
    "colab": {
      "provenance": []
    },
    "kernelspec": {
      "name": "python3",
      "display_name": "Python 3"
    },
    "language_info": {
      "name": "python"
    }
  },
  "cells": [
    {
      "cell_type": "code",
      "execution_count": 1,
      "metadata": {
        "colab": {
          "base_uri": "https://localhost:8080/"
        },
        "id": "pZ5Xec0zXkDm",
        "outputId": "ae47f6fb-50a2-4948-8cc5-ee473dfa5322"
      },
      "outputs": [
        {
          "output_type": "stream",
          "name": "stdout",
          "text": [
            "Checking units of measurement:\n",
            "H0 = 70.0 km / (Mpc s) = 0.070000 (km/s)/kpc\n",
            "a0 = 3702.813098 (km/s)²/kpc\n",
            "G = 0.000004 kpc·(km/s)²/M_sun\n",
            "For v200 = 200.0 km/s: r200 = 285.7 kpc (should be ~200-300 kpc)\n",
            "Loading and validating SPARC data...\n",
            "Loaded 170 galaxies from 174 original ones\n",
            "Total galaxies loaded: 170\n"
          ]
        },
        {
          "output_type": "stream",
          "name": "stderr",
          "text": [
            "\rAnalyzing galaxies:   0%|          | 0/170 [00:00<?, ?it/s]<ipython-input-1-a34ea6248220>:319: OptimizeWarning: Unknown solver options: ftol\n",
            "  result = minimize(chi2_func, x0, method=method, bounds=bounds,\n",
            "<ipython-input-1-a34ea6248220>:319: OptimizeWarning: Unknown solver options: xatol\n",
            "  result = minimize(chi2_func, x0, method=method, bounds=bounds,\n",
            "Analyzing galaxies:   1%|          | 1/170 [00:05<16:24,  5.82s/it]"
          ]
        },
        {
          "output_type": "stream",
          "name": "stdout",
          "text": [
            "D564-8: v200=126.7 km/s, c=1.9, r200=180.9 kpc, rs=95.5 kpc\n",
            "D564-8 (DF): md=1.90, mb=6.30, r0=0.10 kpc, delta0=0.71, beta=0.45\n"
          ]
        },
        {
          "output_type": "stream",
          "name": "stderr",
          "text": [
            "\rAnalyzing galaxies:   1%|          | 2/170 [00:10<14:01,  5.01s/it]"
          ]
        },
        {
          "output_type": "stream",
          "name": "stdout",
          "text": [
            "D631-7: v200=285.8 km/s, c=1.2, r200=408.3 kpc, rs=348.3 kpc\n",
            "D631-7 (DF): md=1.38, mb=5.73, r0=0.10 kpc, delta0=0.71, beta=0.45\n"
          ]
        },
        {
          "output_type": "stream",
          "name": "stderr",
          "text": [
            "\rAnalyzing galaxies:   2%|▏         | 3/170 [00:13<11:54,  4.28s/it]"
          ]
        },
        {
          "output_type": "stream",
          "name": "stdout",
          "text": [
            "DDO064: v200=357.2 km/s, c=8.6, r200=510.3 kpc, rs=59.5 kpc\n",
            "DDO064 (DF): md=1.73, mb=1.64, r0=0.24 kpc, delta0=0.71, beta=0.45\n"
          ]
        },
        {
          "output_type": "stream",
          "name": "stderr",
          "text": [
            "\rAnalyzing galaxies:   2%|▏         | 4/170 [00:19<13:05,  4.73s/it]"
          ]
        },
        {
          "output_type": "stream",
          "name": "stdout",
          "text": [
            "DDO154: v200=184.7 km/s, c=17.9, r200=263.9 kpc, rs=14.7 kpc\n",
            "DDO154 (DF): md=2.40, mb=5.29, r0=0.10 kpc, delta0=0.71, beta=0.45\n"
          ]
        },
        {
          "output_type": "stream",
          "name": "stderr",
          "text": [
            "\rAnalyzing galaxies:   3%|▎         | 5/170 [00:23<12:32,  4.56s/it]"
          ]
        },
        {
          "output_type": "stream",
          "name": "stdout",
          "text": [
            "DDO161: v200=207.3 km/s, c=5.8, r200=296.1 kpc, rs=51.2 kpc\n",
            "DDO161 (DF): md=0.81, mb=7.34, r0=0.58 kpc, delta0=0.71, beta=0.45\n"
          ]
        },
        {
          "output_type": "stream",
          "name": "stderr",
          "text": [
            "\rAnalyzing galaxies:   4%|▎         | 6/170 [00:26<10:44,  3.93s/it]"
          ]
        },
        {
          "output_type": "stream",
          "name": "stdout",
          "text": [
            "DDO168: v200=394.8 km/s, c=6.4, r200=564.0 kpc, rs=87.5 kpc\n",
            "DDO168 (DF): md=1.70, mb=5.07, r0=0.10 kpc, delta0=0.71, beta=0.45\n"
          ]
        },
        {
          "output_type": "stream",
          "name": "stderr",
          "text": [
            "\rAnalyzing galaxies:   4%|▍         | 7/170 [00:26<07:58,  2.94s/it]"
          ]
        },
        {
          "output_type": "stream",
          "name": "stdout",
          "text": [
            "DDO170: v200=188.4 km/s, c=20.7, r200=269.2 kpc, rs=13.0 kpc\n",
            "DDO170 (DF): md=1.54, mb=4.28, r0=4.05 kpc, delta0=0.71, beta=0.45\n"
          ]
        },
        {
          "output_type": "stream",
          "name": "stderr",
          "text": [
            "\rAnalyzing galaxies:   5%|▍         | 8/170 [00:27<05:57,  2.21s/it]"
          ]
        },
        {
          "output_type": "stream",
          "name": "stdout",
          "text": [
            "ESO079-G014: v200=402.7 km/s, c=2.6, r200=575.3 kpc, rs=224.9 kpc\n",
            "ESO079-G014 (DF): md=1.04, mb=3.36, r0=169.07 kpc, delta0=0.71, beta=0.45\n"
          ]
        },
        {
          "output_type": "stream",
          "name": "stderr",
          "text": [
            "\rAnalyzing galaxies:   5%|▌         | 9/170 [00:28<04:38,  1.73s/it]"
          ]
        },
        {
          "output_type": "stream",
          "name": "stdout",
          "text": [
            "ESO116-G012: v200=385.5 km/s, c=33.1, r200=550.7 kpc, rs=16.6 kpc\n",
            "ESO116-G012 (DF): md=0.99, mb=4.06, r0=0.42 kpc, delta0=0.71, beta=0.45\n"
          ]
        },
        {
          "output_type": "stream",
          "name": "stderr",
          "text": [
            "\rAnalyzing galaxies:   6%|▌         | 10/170 [00:29<03:58,  1.49s/it]"
          ]
        },
        {
          "output_type": "stream",
          "name": "stdout",
          "text": [
            "ESO444-G084: v200=308.1 km/s, c=50.7, r200=440.2 kpc, rs=8.7 kpc\n",
            "ESO444-G084 (DF): md=3.24, mb=2.95, r0=0.10 kpc, delta0=0.71, beta=0.45\n"
          ]
        },
        {
          "output_type": "stream",
          "name": "stderr",
          "text": [
            "\rAnalyzing galaxies:   6%|▋         | 11/170 [00:29<03:15,  1.23s/it]"
          ]
        },
        {
          "output_type": "stream",
          "name": "stdout",
          "text": [
            "ESO563-G021: v200=408.6 km/s, c=2.1, r200=583.6 kpc, rs=281.3 kpc\n",
            "ESO563-G021 (DF): md=0.93, mb=3.24, r0=181.98 kpc, delta0=0.71, beta=0.45\n"
          ]
        },
        {
          "output_type": "stream",
          "name": "stderr",
          "text": [
            "\rAnalyzing galaxies:   7%|▋         | 12/170 [00:30<02:56,  1.12s/it]"
          ]
        },
        {
          "output_type": "stream",
          "name": "stdout",
          "text": [
            "F561-1: v200=157.2 km/s, c=45.7, r200=224.6 kpc, rs=4.9 kpc\n",
            "F561-1 (DF): md=0.82, mb=6.59, r0=200.00 kpc, delta0=0.71, beta=0.45\n"
          ]
        },
        {
          "output_type": "stream",
          "name": "stderr",
          "text": [
            "\rAnalyzing galaxies:   8%|▊         | 13/170 [00:31<02:41,  1.03s/it]"
          ]
        },
        {
          "output_type": "stream",
          "name": "stdout",
          "text": [
            "F563-1: v200=370.9 km/s, c=18.7, r200=529.8 kpc, rs=28.3 kpc\n",
            "F563-1 (DF): md=1.99, mb=1.15, r0=4.59 kpc, delta0=0.71, beta=0.45\n"
          ]
        },
        {
          "output_type": "stream",
          "name": "stderr",
          "text": [
            "\rAnalyzing galaxies:   8%|▊         | 14/170 [00:32<02:46,  1.07s/it]"
          ]
        },
        {
          "output_type": "stream",
          "name": "stdout",
          "text": [
            "F563-V1: v200=50.0 km/s, c=21.0, r200=71.4 kpc, rs=3.4 kpc\n",
            "F563-V1 (DF): md=0.85, mb=4.84, r0=200.00 kpc, delta0=0.71, beta=0.45\n"
          ]
        },
        {
          "output_type": "stream",
          "name": "stderr",
          "text": [
            "\rAnalyzing galaxies:   9%|▉         | 15/170 [00:33<02:35,  1.00s/it]"
          ]
        },
        {
          "output_type": "stream",
          "name": "stdout",
          "text": [
            "F563-V2: v200=371.5 km/s, c=1.9, r200=530.7 kpc, rs=280.9 kpc\n",
            "F563-V2 (DF): md=2.14, mb=1.03, r0=56.34 kpc, delta0=0.71, beta=0.45\n"
          ]
        },
        {
          "output_type": "stream",
          "name": "stderr",
          "text": [
            "\rAnalyzing galaxies:   9%|▉         | 16/170 [00:34<02:23,  1.07it/s]"
          ]
        },
        {
          "output_type": "stream",
          "name": "stdout",
          "text": [
            "F565-V2: v200=441.2 km/s, c=12.3, r200=630.3 kpc, rs=51.2 kpc\n",
            "F565-V2 (DF): md=2.02, mb=7.52, r0=0.89 kpc, delta0=0.71, beta=0.45\n"
          ]
        },
        {
          "output_type": "stream",
          "name": "stderr",
          "text": [
            "\rAnalyzing galaxies:  10%|█         | 17/170 [00:35<02:26,  1.04it/s]"
          ]
        },
        {
          "output_type": "stream",
          "name": "stdout",
          "text": [
            "F567-2: v200=50.0 km/s, c=3.8, r200=71.4 kpc, rs=19.0 kpc\n",
            "F567-2 (DF): md=1.27, mb=0.86, r0=200.00 kpc, delta0=0.71, beta=0.45\n"
          ]
        },
        {
          "output_type": "stream",
          "name": "stderr",
          "text": [
            "\rAnalyzing galaxies:  11%|█         | 18/170 [00:35<02:04,  1.22it/s]"
          ]
        },
        {
          "output_type": "stream",
          "name": "stdout",
          "text": [
            "F568-1: v200=381.0 km/s, c=10.6, r200=544.2 kpc, rs=51.5 kpc\n",
            "F568-1 (DF): md=1.96, mb=0.45, r0=46.30 kpc, delta0=0.71, beta=0.45\n"
          ]
        },
        {
          "output_type": "stream",
          "name": "stderr",
          "text": [
            "\rAnalyzing galaxies:  11%|█         | 19/170 [00:36<01:55,  1.30it/s]"
          ]
        },
        {
          "output_type": "stream",
          "name": "stdout",
          "text": [
            "F568-3: v200=441.4 km/s, c=2.4, r200=630.6 kpc, rs=262.1 kpc\n",
            "F568-3 (DF): md=1.26, mb=0.92, r0=17.08 kpc, delta0=0.71, beta=0.45\n"
          ]
        },
        {
          "output_type": "stream",
          "name": "stderr",
          "text": [
            "\rAnalyzing galaxies:  12%|█▏        | 20/170 [00:37<01:52,  1.33it/s]"
          ]
        },
        {
          "output_type": "stream",
          "name": "stdout",
          "text": [
            "F568-V1: v200=304.1 km/s, c=13.6, r200=434.4 kpc, rs=32.0 kpc\n",
            "F568-V1 (DF): md=2.08, mb=1.54, r0=87.05 kpc, delta0=0.71, beta=0.45\n"
          ]
        },
        {
          "output_type": "stream",
          "name": "stderr",
          "text": [
            "\rAnalyzing galaxies:  12%|█▏        | 21/170 [00:38<01:57,  1.26it/s]"
          ]
        },
        {
          "output_type": "stream",
          "name": "stdout",
          "text": [
            "F571-8: v200=362.8 km/s, c=37.1, r200=518.3 kpc, rs=14.0 kpc\n",
            "F571-8 (DF): md=0.76, mb=2.93, r0=0.10 kpc, delta0=0.71, beta=0.45\n"
          ]
        },
        {
          "output_type": "stream",
          "name": "stderr",
          "text": [
            "\rAnalyzing galaxies:  13%|█▎        | 22/170 [00:39<02:03,  1.20it/s]"
          ]
        },
        {
          "output_type": "stream",
          "name": "stdout",
          "text": [
            "F571-V1: v200=279.7 km/s, c=14.2, r200=399.6 kpc, rs=28.1 kpc\n",
            "F571-V1 (DF): md=1.24, mb=6.86, r0=2.26 kpc, delta0=0.71, beta=0.45\n"
          ]
        },
        {
          "output_type": "stream",
          "name": "stderr",
          "text": [
            "\rAnalyzing galaxies:  14%|█▎        | 23/170 [00:39<01:54,  1.29it/s]"
          ]
        },
        {
          "output_type": "stream",
          "name": "stdout",
          "text": [
            "F574-1: v200=290.1 km/s, c=15.1, r200=414.5 kpc, rs=27.5 kpc\n",
            "F574-1 (DF): md=1.55, mb=4.74, r0=132.32 kpc, delta0=0.71, beta=0.45\n"
          ]
        },
        {
          "output_type": "stream",
          "name": "stderr",
          "text": [
            "\rAnalyzing galaxies:  14%|█▍        | 24/170 [00:40<01:59,  1.22it/s]"
          ]
        },
        {
          "output_type": "stream",
          "name": "stdout",
          "text": [
            "F574-2: v200=70.4 km/s, c=3.2, r200=100.6 kpc, rs=31.6 kpc\n",
            "F574-2 (DF): md=0.61, mb=2.51, r0=200.00 kpc, delta0=0.71, beta=0.45\n"
          ]
        },
        {
          "output_type": "stream",
          "name": "stderr",
          "text": [
            "\rAnalyzing galaxies:  15%|█▍        | 25/170 [00:41<01:47,  1.35it/s]"
          ]
        },
        {
          "output_type": "stream",
          "name": "stdout",
          "text": [
            "F579-V1: v200=174.0 km/s, c=45.2, r200=248.6 kpc, rs=5.5 kpc\n",
            "F579-V1 (DF): md=1.42, mb=6.25, r0=200.00 kpc, delta0=0.71, beta=0.45\n"
          ]
        },
        {
          "output_type": "stream",
          "name": "stderr",
          "text": [
            "\rAnalyzing galaxies:  15%|█▌        | 26/170 [00:41<01:43,  1.39it/s]"
          ]
        },
        {
          "output_type": "stream",
          "name": "stdout",
          "text": [
            "F583-1: v200=293.4 km/s, c=9.0, r200=419.2 kpc, rs=46.4 kpc\n",
            "F583-1 (DF): md=1.88, mb=3.76, r0=5.26 kpc, delta0=0.71, beta=0.45\n"
          ]
        },
        {
          "output_type": "stream",
          "name": "stderr",
          "text": [
            "\rAnalyzing galaxies:  16%|█▌        | 27/170 [00:42<01:50,  1.29it/s]"
          ]
        },
        {
          "output_type": "stream",
          "name": "stdout",
          "text": [
            "F583-4: v200=271.4 km/s, c=1.9, r200=387.8 kpc, rs=207.1 kpc\n",
            "F583-4 (DF): md=1.30, mb=3.24, r0=29.55 kpc, delta0=0.71, beta=0.45\n"
          ]
        },
        {
          "output_type": "stream",
          "name": "stderr",
          "text": [
            "\rAnalyzing galaxies:  16%|█▋        | 28/170 [00:43<02:00,  1.18it/s]"
          ]
        },
        {
          "output_type": "stream",
          "name": "stdout",
          "text": [
            "IC2574: v200=214.2 km/s, c=2.8, r200=306.0 kpc, rs=108.9 kpc\n",
            "IC2574 (DF): md=1.09, mb=3.27, r0=1.88 kpc, delta0=0.71, beta=0.45\n"
          ]
        },
        {
          "output_type": "stream",
          "name": "stderr",
          "text": [
            "/usr/local/lib/python3.11/dist-packages/scipy/optimize/_slsqp_py.py:434: RuntimeWarning: Values in x were outside bounds during a minimize step, clipping to bounds\n",
            "  fx = wrapped_fun(x)\n",
            "Analyzing galaxies:  17%|█▋        | 29/170 [00:45<02:27,  1.04s/it]"
          ]
        },
        {
          "output_type": "stream",
          "name": "stdout",
          "text": [
            "IC4202: v200=395.6 km/s, c=46.2, r200=565.1 kpc, rs=12.2 kpc\n",
            "IC4202 (DF): md=0.31, mb=0.69, r0=0.10 kpc, delta0=0.71, beta=0.45\n"
          ]
        },
        {
          "output_type": "stream",
          "name": "stderr",
          "text": [
            "\rAnalyzing galaxies:  18%|█▊        | 30/170 [00:46<02:37,  1.13s/it]"
          ]
        },
        {
          "output_type": "stream",
          "name": "stdout",
          "text": [
            "KK98-251: v200=50.0 km/s, c=1.8, r200=71.4 kpc, rs=39.3 kpc\n",
            "KK98-251 (DF): md=1.72, mb=1.36, r0=1.37 kpc, delta0=0.71, beta=0.45\n"
          ]
        },
        {
          "output_type": "stream",
          "name": "stderr",
          "text": [
            "\rAnalyzing galaxies:  18%|█▊        | 31/170 [00:47<02:14,  1.04it/s]"
          ]
        },
        {
          "output_type": "stream",
          "name": "stdout",
          "text": [
            "NGC0024: v200=449.4 km/s, c=24.4, r200=642.0 kpc, rs=26.3 kpc\n",
            "NGC0024 (DF): md=1.37, mb=5.75, r0=3.81 kpc, delta0=0.71, beta=0.45\n"
          ]
        },
        {
          "output_type": "stream",
          "name": "stderr",
          "text": [
            "\rAnalyzing galaxies:  19%|█▉        | 32/170 [00:48<02:11,  1.05it/s]"
          ]
        },
        {
          "output_type": "stream",
          "name": "stdout",
          "text": [
            "NGC0055: v200=319.4 km/s, c=10.2, r200=456.2 kpc, rs=44.5 kpc\n",
            "NGC0055 (DF): md=0.89, mb=5.42, r0=5.14 kpc, delta0=0.71, beta=0.45\n"
          ]
        },
        {
          "output_type": "stream",
          "name": "stderr",
          "text": [
            "\rAnalyzing galaxies:  19%|█▉        | 33/170 [00:49<02:13,  1.03it/s]"
          ]
        },
        {
          "output_type": "stream",
          "name": "stdout",
          "text": [
            "NGC0100: v200=428.6 km/s, c=17.7, r200=612.2 kpc, rs=34.5 kpc\n",
            "NGC0100 (DF): md=0.88, mb=9.98, r0=0.10 kpc, delta0=0.71, beta=0.45\n"
          ]
        },
        {
          "output_type": "stream",
          "name": "stderr",
          "text": [
            "\rAnalyzing galaxies:  20%|██        | 34/170 [00:49<02:09,  1.05it/s]"
          ]
        },
        {
          "output_type": "stream",
          "name": "stdout",
          "text": [
            "NGC0247: v200=341.5 km/s, c=25.0, r200=487.9 kpc, rs=19.5 kpc\n",
            "NGC0247 (DF): md=1.42, mb=4.28, r0=200.00 kpc, delta0=0.71, beta=0.45\n"
          ]
        },
        {
          "output_type": "stream",
          "name": "stderr",
          "text": [
            "\rAnalyzing galaxies:  21%|██        | 35/170 [00:50<01:56,  1.16it/s]"
          ]
        },
        {
          "output_type": "stream",
          "name": "stdout",
          "text": [
            "NGC0289: v200=424.4 km/s, c=4.2, r200=606.3 kpc, rs=145.6 kpc\n",
            "NGC0289 (DF): md=0.81, mb=1.30, r0=66.80 kpc, delta0=0.71, beta=0.45\n"
          ]
        },
        {
          "output_type": "stream",
          "name": "stderr",
          "text": [
            "\rAnalyzing galaxies:  21%|██        | 36/170 [00:51<01:54,  1.18it/s]"
          ]
        },
        {
          "output_type": "stream",
          "name": "stdout",
          "text": [
            "NGC0300: v200=381.9 km/s, c=22.5, r200=545.6 kpc, rs=24.3 kpc\n",
            "NGC0300 (DF): md=1.06, mb=1.26, r0=0.34 kpc, delta0=0.71, beta=0.45\n"
          ]
        },
        {
          "output_type": "stream",
          "name": "stderr",
          "text": [
            "\rAnalyzing galaxies:  22%|██▏       | 37/170 [00:52<01:53,  1.17it/s]"
          ]
        },
        {
          "output_type": "stream",
          "name": "stdout",
          "text": [
            "NGC0801: v200=393.0 km/s, c=1.5, r200=561.5 kpc, rs=378.2 kpc\n",
            "NGC0801 (DF): md=0.68, mb=7.76, r0=200.00 kpc, delta0=0.71, beta=0.45\n"
          ]
        },
        {
          "output_type": "stream",
          "name": "stderr",
          "text": [
            "\rAnalyzing galaxies:  22%|██▏       | 38/170 [00:53<01:56,  1.13it/s]"
          ]
        },
        {
          "output_type": "stream",
          "name": "stdout",
          "text": [
            "NGC0891: v200=379.6 km/s, c=19.7, r200=542.3 kpc, rs=27.5 kpc\n",
            "NGC0891 (DF): md=0.48, mb=0.73, r0=3.96 kpc, delta0=0.71, beta=0.45\n"
          ]
        },
        {
          "output_type": "stream",
          "name": "stderr",
          "text": [
            "\rAnalyzing galaxies:  23%|██▎       | 39/170 [00:54<01:59,  1.10it/s]"
          ]
        },
        {
          "output_type": "stream",
          "name": "stdout",
          "text": [
            "NGC1003: v200=322.7 km/s, c=12.3, r200=460.9 kpc, rs=37.3 kpc\n",
            "NGC1003 (DF): md=0.72, mb=2.13, r0=0.40 kpc, delta0=0.71, beta=0.45\n"
          ]
        },
        {
          "output_type": "stream",
          "name": "stderr",
          "text": [
            "\rAnalyzing galaxies:  24%|██▎       | 40/170 [00:55<01:54,  1.14it/s]"
          ]
        },
        {
          "output_type": "stream",
          "name": "stdout",
          "text": [
            "NGC1090: v200=418.6 km/s, c=2.1, r200=598.0 kpc, rs=288.1 kpc\n",
            "NGC1090 (DF): md=0.74, mb=2.56, r0=49.41 kpc, delta0=0.71, beta=0.45\n"
          ]
        },
        {
          "output_type": "stream",
          "name": "stderr",
          "text": [
            "\rAnalyzing galaxies:  24%|██▍       | 41/170 [00:56<01:59,  1.08it/s]"
          ]
        },
        {
          "output_type": "stream",
          "name": "stdout",
          "text": [
            "NGC1705: v200=291.7 km/s, c=59.0, r200=416.8 kpc, rs=7.1 kpc\n",
            "NGC1705 (DF): md=1.70, mb=7.58, r0=0.10 kpc, delta0=0.71, beta=0.45\n"
          ]
        },
        {
          "output_type": "stream",
          "name": "stderr",
          "text": [
            "\rAnalyzing galaxies:  25%|██▍       | 42/170 [00:57<02:22,  1.12s/it]"
          ]
        },
        {
          "output_type": "stream",
          "name": "stdout",
          "text": [
            "NGC2366: v200=204.4 km/s, c=18.9, r200=292.0 kpc, rs=15.5 kpc\n",
            "NGC2366 (DF): md=1.23, mb=7.52, r0=0.10 kpc, delta0=0.71, beta=0.45\n"
          ]
        },
        {
          "output_type": "stream",
          "name": "stderr",
          "text": [
            "\rAnalyzing galaxies:  25%|██▌       | 43/170 [00:58<02:15,  1.06s/it]"
          ]
        },
        {
          "output_type": "stream",
          "name": "stdout",
          "text": [
            "NGC2403: v200=437.7 km/s, c=26.3, r200=625.3 kpc, rs=23.7 kpc\n",
            "NGC2403 (DF): md=0.86, mb=3.23, r0=1.94 kpc, delta0=0.71, beta=0.45\n"
          ]
        },
        {
          "output_type": "stream",
          "name": "stderr",
          "text": [
            "\rAnalyzing galaxies:  26%|██▌       | 44/170 [00:59<02:12,  1.05s/it]"
          ]
        },
        {
          "output_type": "stream",
          "name": "stdout",
          "text": [
            "NGC2683: v200=387.4 km/s, c=11.6, r200=553.4 kpc, rs=47.7 kpc\n",
            "NGC2683 (DF): md=0.67, mb=1.09, r0=17.24 kpc, delta0=0.71, beta=0.45\n"
          ]
        },
        {
          "output_type": "stream",
          "name": "stderr",
          "text": [
            "\rAnalyzing galaxies:  26%|██▋       | 45/170 [01:00<02:12,  1.06s/it]"
          ]
        },
        {
          "output_type": "stream",
          "name": "stdout",
          "text": [
            "NGC2841: v200=427.9 km/s, c=2.6, r200=611.2 kpc, rs=239.4 kpc\n",
            "NGC2841 (DF): md=0.72, mb=1.04, r0=22.29 kpc, delta0=0.71, beta=0.45\n"
          ]
        },
        {
          "output_type": "stream",
          "name": "stderr",
          "text": [
            "\rAnalyzing galaxies:  27%|██▋       | 46/170 [01:01<02:00,  1.03it/s]"
          ]
        },
        {
          "output_type": "stream",
          "name": "stdout",
          "text": [
            "NGC2903: v200=378.8 km/s, c=17.0, r200=541.1 kpc, rs=31.8 kpc\n",
            "NGC2903 (DF): md=0.56, mb=2.95, r0=1.63 kpc, delta0=0.71, beta=0.45\n"
          ]
        },
        {
          "output_type": "stream",
          "name": "stderr",
          "text": [
            "\rAnalyzing galaxies:  28%|██▊       | 47/170 [01:02<01:55,  1.07it/s]"
          ]
        },
        {
          "output_type": "stream",
          "name": "stdout",
          "text": [
            "NGC2915: v200=337.5 km/s, c=55.6, r200=482.2 kpc, rs=8.7 kpc\n",
            "NGC2915 (DF): md=1.86, mb=1.76, r0=0.10 kpc, delta0=0.71, beta=0.45\n"
          ]
        },
        {
          "output_type": "stream",
          "name": "stderr",
          "text": [
            "\rAnalyzing galaxies:  28%|██▊       | 48/170 [01:03<01:47,  1.14it/s]"
          ]
        },
        {
          "output_type": "stream",
          "name": "stdout",
          "text": [
            "NGC2955: v200=436.3 km/s, c=2.5, r200=623.3 kpc, rs=244.9 kpc\n",
            "NGC2955 (DF): md=0.55, mb=0.86, r0=103.67 kpc, delta0=0.71, beta=0.45\n"
          ]
        },
        {
          "output_type": "stream",
          "name": "stderr",
          "text": [
            "\rAnalyzing galaxies:  29%|██▉       | 49/170 [01:03<01:42,  1.18it/s]"
          ]
        },
        {
          "output_type": "stream",
          "name": "stdout",
          "text": [
            "NGC2976: v200=50.0 km/s, c=2.4, r200=71.4 kpc, rs=30.2 kpc\n",
            "NGC2976 (DF): md=0.95, mb=2.77, r0=19.04 kpc, delta0=0.71, beta=0.45\n"
          ]
        },
        {
          "output_type": "stream",
          "name": "stderr",
          "text": [
            "\rAnalyzing galaxies:  29%|██▉       | 50/170 [01:04<01:36,  1.24it/s]"
          ]
        },
        {
          "output_type": "stream",
          "name": "stdout",
          "text": [
            "NGC2998: v200=445.2 km/s, c=2.0, r200=636.0 kpc, rs=311.3 kpc\n",
            "NGC2998 (DF): md=0.80, mb=0.99, r0=121.94 kpc, delta0=0.71, beta=0.45\n"
          ]
        },
        {
          "output_type": "stream",
          "name": "stderr",
          "text": [
            "\rAnalyzing galaxies:  30%|███       | 51/170 [01:05<01:47,  1.11it/s]"
          ]
        },
        {
          "output_type": "stream",
          "name": "stdout",
          "text": [
            "NGC3109: v200=361.1 km/s, c=5.6, r200=515.9 kpc, rs=91.3 kpc\n",
            "NGC3109 (DF): md=2.30, mb=0.36, r0=0.10 kpc, delta0=0.71, beta=0.45\n"
          ]
        },
        {
          "output_type": "stream",
          "name": "stderr",
          "text": [
            "\rAnalyzing galaxies:  31%|███       | 52/170 [01:06<01:38,  1.20it/s]"
          ]
        },
        {
          "output_type": "stream",
          "name": "stdout",
          "text": [
            "NGC3198: v200=400.1 km/s, c=6.0, r200=571.6 kpc, rs=94.7 kpc\n",
            "NGC3198 (DF): md=0.81, mb=2.96, r0=19.28 kpc, delta0=0.71, beta=0.45\n"
          ]
        },
        {
          "output_type": "stream",
          "name": "stderr",
          "text": [
            "\rAnalyzing galaxies:  31%|███       | 53/170 [01:06<01:26,  1.35it/s]"
          ]
        },
        {
          "output_type": "stream",
          "name": "stdout",
          "text": [
            "NGC3521: v200=396.3 km/s, c=21.0, r200=566.2 kpc, rs=27.0 kpc\n",
            "NGC3521 (DF): md=0.72, mb=5.33, r0=24.72 kpc, delta0=0.71, beta=0.45\n"
          ]
        },
        {
          "output_type": "stream",
          "name": "stderr",
          "text": [
            "\rAnalyzing galaxies:  32%|███▏      | 54/170 [01:07<01:24,  1.38it/s]"
          ]
        },
        {
          "output_type": "stream",
          "name": "stdout",
          "text": [
            "NGC3726: v200=414.3 km/s, c=1.6, r200=591.8 kpc, rs=381.8 kpc\n",
            "NGC3726 (DF): md=0.65, mb=1.67, r0=34.80 kpc, delta0=0.71, beta=0.45\n"
          ]
        },
        {
          "output_type": "stream",
          "name": "stderr",
          "text": [
            "\rAnalyzing galaxies:  32%|███▏      | 55/170 [01:08<01:26,  1.32it/s]"
          ]
        },
        {
          "output_type": "stream",
          "name": "stdout",
          "text": [
            "NGC3741: v200=203.9 km/s, c=12.2, r200=291.3 kpc, rs=23.9 kpc\n",
            "NGC3741 (DF): md=3.06, mb=7.73, r0=0.10 kpc, delta0=0.71, beta=0.45\n"
          ]
        },
        {
          "output_type": "stream",
          "name": "stderr",
          "text": [
            "\rAnalyzing galaxies:  33%|███▎      | 56/170 [01:09<01:34,  1.20it/s]"
          ]
        },
        {
          "output_type": "stream",
          "name": "stdout",
          "text": [
            "NGC3769: v200=389.7 km/s, c=28.5, r200=556.7 kpc, rs=19.6 kpc\n",
            "NGC3769 (DF): md=0.61, mb=4.42, r0=1.22 kpc, delta0=0.71, beta=0.45\n"
          ]
        },
        {
          "output_type": "stream",
          "name": "stderr",
          "text": [
            "\rAnalyzing galaxies:  34%|███▎      | 57/170 [01:10<01:31,  1.23it/s]"
          ]
        },
        {
          "output_type": "stream",
          "name": "stdout",
          "text": [
            "NGC3877: v200=412.7 km/s, c=40.6, r200=589.5 kpc, rs=14.5 kpc\n",
            "NGC3877 (DF): md=0.76, mb=3.78, r0=200.00 kpc, delta0=0.71, beta=0.45\n"
          ]
        },
        {
          "output_type": "stream",
          "name": "stderr",
          "text": [
            "\rAnalyzing galaxies:  34%|███▍      | 58/170 [01:11<01:34,  1.18it/s]"
          ]
        },
        {
          "output_type": "stream",
          "name": "stdout",
          "text": [
            "NGC3893: v200=379.7 km/s, c=23.6, r200=542.4 kpc, rs=23.0 kpc\n",
            "NGC3893 (DF): md=0.68, mb=2.10, r0=7.18 kpc, delta0=0.71, beta=0.45\n"
          ]
        },
        {
          "output_type": "stream",
          "name": "stderr",
          "text": [
            "\rAnalyzing galaxies:  35%|███▍      | 59/170 [01:11<01:30,  1.22it/s]"
          ]
        },
        {
          "output_type": "stream",
          "name": "stdout",
          "text": [
            "NGC3917: v200=414.9 km/s, c=1.8, r200=592.7 kpc, rs=335.7 kpc\n",
            "NGC3917 (DF): md=1.07, mb=3.44, r0=200.00 kpc, delta0=0.71, beta=0.45\n"
          ]
        },
        {
          "output_type": "stream",
          "name": "stderr",
          "text": [
            "\rAnalyzing galaxies:  35%|███▌      | 60/170 [01:12<01:25,  1.29it/s]"
          ]
        },
        {
          "output_type": "stream",
          "name": "stdout",
          "text": [
            "NGC3949: v200=438.0 km/s, c=56.1, r200=625.7 kpc, rs=11.1 kpc\n",
            "NGC3949 (DF): md=0.71, mb=6.33, r0=32.73 kpc, delta0=0.71, beta=0.45\n"
          ]
        },
        {
          "output_type": "stream",
          "name": "stderr",
          "text": [
            "\rAnalyzing galaxies:  36%|███▌      | 61/170 [01:13<01:25,  1.27it/s]"
          ]
        },
        {
          "output_type": "stream",
          "name": "stdout",
          "text": [
            "NGC3953: v200=445.2 km/s, c=59.3, r200=636.0 kpc, rs=10.7 kpc\n",
            "NGC3953 (DF): md=0.78, mb=1.34, r0=200.00 kpc, delta0=0.71, beta=0.45\n"
          ]
        },
        {
          "output_type": "stream",
          "name": "stderr",
          "text": [
            "\rAnalyzing galaxies:  36%|███▋      | 62/170 [01:13<01:17,  1.39it/s]"
          ]
        },
        {
          "output_type": "stream",
          "name": "stdout",
          "text": [
            "NGC3972: v200=414.7 km/s, c=18.6, r200=592.5 kpc, rs=31.8 kpc\n",
            "NGC3972 (DF): md=1.02, mb=1.64, r0=54.01 kpc, delta0=0.71, beta=0.45\n"
          ]
        },
        {
          "output_type": "stream",
          "name": "stderr",
          "text": [
            "\rAnalyzing galaxies:  37%|███▋      | 63/170 [01:14<01:17,  1.39it/s]"
          ]
        },
        {
          "output_type": "stream",
          "name": "stdout",
          "text": [
            "NGC3992: v200=418.0 km/s, c=2.0, r200=597.2 kpc, rs=301.5 kpc\n",
            "NGC3992 (DF): md=0.87, mb=2.14, r0=177.44 kpc, delta0=0.71, beta=0.45\n"
          ]
        },
        {
          "output_type": "stream",
          "name": "stderr",
          "text": [
            "\rAnalyzing galaxies:  38%|███▊      | 64/170 [01:15<01:14,  1.42it/s]"
          ]
        },
        {
          "output_type": "stream",
          "name": "stdout",
          "text": [
            "NGC4010: v200=409.9 km/s, c=17.1, r200=585.6 kpc, rs=34.3 kpc\n",
            "NGC4010 (DF): md=0.75, mb=7.22, r0=4.19 kpc, delta0=0.71, beta=0.45\n"
          ]
        },
        {
          "output_type": "stream",
          "name": "stderr",
          "text": [
            "\rAnalyzing galaxies:  38%|███▊      | 65/170 [01:16<01:28,  1.18it/s]"
          ]
        },
        {
          "output_type": "stream",
          "name": "stdout",
          "text": [
            "NGC4013: v200=431.3 km/s, c=1.6, r200=616.2 kpc, rs=395.8 kpc\n",
            "NGC4013 (DF): md=0.20, mb=1.16, r0=1.43 kpc, delta0=0.71, beta=0.45\n"
          ]
        },
        {
          "output_type": "stream",
          "name": "stderr",
          "text": [
            "\rAnalyzing galaxies:  39%|███▉      | 66/170 [01:17<01:23,  1.25it/s]"
          ]
        },
        {
          "output_type": "stream",
          "name": "stdout",
          "text": [
            "NGC4051: v200=447.1 km/s, c=50.0, r200=638.6 kpc, rs=12.8 kpc\n",
            "NGC4051 (DF): md=0.73, mb=9.74, r0=200.00 kpc, delta0=0.71, beta=0.45\n"
          ]
        },
        {
          "output_type": "stream",
          "name": "stderr",
          "text": [
            "\rAnalyzing galaxies:  39%|███▉      | 67/170 [01:18<01:32,  1.11it/s]"
          ]
        },
        {
          "output_type": "stream",
          "name": "stdout",
          "text": [
            "NGC4068: v200=294.7 km/s, c=2.8, r200=421.0 kpc, rs=149.2 kpc\n",
            "NGC4068 (DF): md=1.02, mb=3.27, r0=0.10 kpc, delta0=0.71, beta=0.45\n"
          ]
        },
        {
          "output_type": "stream",
          "name": "stderr",
          "text": [
            "\rAnalyzing galaxies:  40%|████      | 68/170 [01:19<01:26,  1.17it/s]"
          ]
        },
        {
          "output_type": "stream",
          "name": "stdout",
          "text": [
            "NGC4085: v200=350.8 km/s, c=30.6, r200=501.1 kpc, rs=16.4 kpc\n",
            "NGC4085 (DF): md=0.56, mb=8.09, r0=0.36 kpc, delta0=0.71, beta=0.45\n"
          ]
        },
        {
          "output_type": "stream",
          "name": "stderr",
          "text": [
            "\rAnalyzing galaxies:  41%|████      | 69/170 [01:19<01:19,  1.27it/s]"
          ]
        },
        {
          "output_type": "stream",
          "name": "stdout",
          "text": [
            "NGC4088: v200=397.8 km/s, c=10.8, r200=568.3 kpc, rs=52.5 kpc\n",
            "NGC4088 (DF): md=0.55, mb=8.30, r0=37.93 kpc, delta0=0.71, beta=0.45\n"
          ]
        },
        {
          "output_type": "stream",
          "name": "stderr",
          "text": [
            "\rAnalyzing galaxies:  41%|████      | 70/170 [01:20<01:13,  1.35it/s]"
          ]
        },
        {
          "output_type": "stream",
          "name": "stdout",
          "text": [
            "NGC4100: v200=404.5 km/s, c=15.5, r200=577.9 kpc, rs=37.4 kpc\n",
            "NGC4100 (DF): md=0.80, mb=4.45, r0=30.80 kpc, delta0=0.71, beta=0.45\n"
          ]
        },
        {
          "output_type": "stream",
          "name": "stderr",
          "text": [
            "\rAnalyzing galaxies:  42%|████▏     | 71/170 [01:21<01:33,  1.06it/s]"
          ]
        },
        {
          "output_type": "stream",
          "name": "stdout",
          "text": [
            "NGC4138: v200=412.4 km/s, c=29.9, r200=589.2 kpc, rs=19.7 kpc\n",
            "NGC4138 (DF): md=0.85, mb=0.10, r0=14.44 kpc, delta0=0.71, beta=0.45\n"
          ]
        },
        {
          "output_type": "stream",
          "name": "stderr",
          "text": [
            "\rAnalyzing galaxies:  42%|████▏     | 72/170 [01:23<01:52,  1.14s/it]"
          ]
        },
        {
          "output_type": "stream",
          "name": "stdout",
          "text": [
            "NGC4157: v200=448.9 km/s, c=2.4, r200=641.3 kpc, rs=263.6 kpc\n",
            "NGC4157 (DF): md=0.55, mb=0.99, r0=12.74 kpc, delta0=0.71, beta=0.45\n"
          ]
        },
        {
          "output_type": "stream",
          "name": "stderr",
          "text": [
            "\rAnalyzing galaxies:  43%|████▎     | 73/170 [01:24<01:44,  1.08s/it]"
          ]
        },
        {
          "output_type": "stream",
          "name": "stdout",
          "text": [
            "NGC4183: v200=321.7 km/s, c=42.1, r200=459.5 kpc, rs=10.9 kpc\n",
            "NGC4183 (DF): md=1.17, mb=9.64, r0=86.16 kpc, delta0=0.71, beta=0.45\n"
          ]
        },
        {
          "output_type": "stream",
          "name": "stderr",
          "text": [
            "\rAnalyzing galaxies:  44%|████▎     | 74/170 [01:25<01:36,  1.00s/it]"
          ]
        },
        {
          "output_type": "stream",
          "name": "stdout",
          "text": [
            "NGC4214: v200=346.4 km/s, c=44.2, r200=494.9 kpc, rs=11.2 kpc\n",
            "NGC4214 (DF): md=1.27, mb=3.71, r0=0.10 kpc, delta0=0.71, beta=0.45\n"
          ]
        },
        {
          "output_type": "stream",
          "name": "stderr",
          "text": [
            "\rAnalyzing galaxies:  44%|████▍     | 75/170 [01:26<01:49,  1.15s/it]"
          ]
        },
        {
          "output_type": "stream",
          "name": "stdout",
          "text": [
            "NGC4217: v200=374.2 km/s, c=16.7, r200=534.6 kpc, rs=32.1 kpc\n",
            "NGC4217 (DF): md=0.55, mb=0.39, r0=0.10 kpc, delta0=0.71, beta=0.45\n"
          ]
        },
        {
          "output_type": "stream",
          "name": "stderr",
          "text": [
            "\rAnalyzing galaxies:  45%|████▍     | 76/170 [01:27<01:43,  1.10s/it]"
          ]
        },
        {
          "output_type": "stream",
          "name": "stdout",
          "text": [
            "NGC4389: v200=409.0 km/s, c=24.4, r200=584.3 kpc, rs=24.0 kpc\n",
            "NGC4389 (DF): md=0.39, mb=4.47, r0=0.10 kpc, delta0=0.71, beta=0.45\n"
          ]
        },
        {
          "output_type": "stream",
          "name": "stderr",
          "text": [
            "\rAnalyzing galaxies:  45%|████▌     | 77/170 [01:28<01:35,  1.03s/it]"
          ]
        },
        {
          "output_type": "stream",
          "name": "stdout",
          "text": [
            "NGC4559: v200=435.4 km/s, c=21.7, r200=621.9 kpc, rs=28.6 kpc\n",
            "NGC4559 (DF): md=0.74, mb=9.00, r0=13.22 kpc, delta0=0.71, beta=0.45\n"
          ]
        },
        {
          "output_type": "stream",
          "name": "stderr",
          "text": [
            "\rAnalyzing galaxies:  46%|████▌     | 78/170 [01:29<01:29,  1.03it/s]"
          ]
        },
        {
          "output_type": "stream",
          "name": "stdout",
          "text": [
            "NGC5005: v200=381.8 km/s, c=20.7, r200=545.5 kpc, rs=26.3 kpc\n",
            "NGC5005 (DF): md=0.70, mb=0.73, r0=71.36 kpc, delta0=0.71, beta=0.45\n"
          ]
        },
        {
          "output_type": "stream",
          "name": "stderr",
          "text": [
            "\rAnalyzing galaxies:  46%|████▋     | 79/170 [01:33<02:54,  1.92s/it]"
          ]
        },
        {
          "output_type": "stream",
          "name": "stdout",
          "text": [
            "NGC5033: v200=389.0 km/s, c=1.9, r200=555.7 kpc, rs=292.0 kpc\n",
            "NGC5033 (DF): md=0.85, mb=0.52, r0=32.65 kpc, delta0=0.71, beta=0.45\n"
          ]
        },
        {
          "output_type": "stream",
          "name": "stderr",
          "text": [
            "\rAnalyzing galaxies:  47%|████▋     | 80/170 [01:34<02:20,  1.56s/it]"
          ]
        },
        {
          "output_type": "stream",
          "name": "stdout",
          "text": [
            "NGC5055: v200=444.2 km/s, c=2.7, r200=634.6 kpc, rs=234.5 kpc\n",
            "NGC5055 (DF): md=0.59, mb=5.78, r0=27.48 kpc, delta0=0.71, beta=0.45\n"
          ]
        },
        {
          "output_type": "stream",
          "name": "stderr",
          "text": [
            "\rAnalyzing galaxies:  48%|████▊     | 81/170 [01:35<02:05,  1.41s/it]"
          ]
        },
        {
          "output_type": "stream",
          "name": "stdout",
          "text": [
            "NGC5371: v200=281.9 km/s, c=2.1, r200=402.7 kpc, rs=187.8 kpc\n",
            "NGC5371 (DF): md=0.64, mb=7.79, r0=200.00 kpc, delta0=0.71, beta=0.45\n"
          ]
        },
        {
          "output_type": "stream",
          "name": "stderr",
          "text": [
            "\rAnalyzing galaxies:  48%|████▊     | 82/170 [01:36<01:58,  1.34s/it]"
          ]
        },
        {
          "output_type": "stream",
          "name": "stdout",
          "text": [
            "NGC5585: v200=340.9 km/s, c=50.5, r200=486.9 kpc, rs=9.6 kpc\n",
            "NGC5585 (DF): md=0.85, mb=5.49, r0=0.19 kpc, delta0=0.71, beta=0.45\n"
          ]
        },
        {
          "output_type": "stream",
          "name": "stderr",
          "text": [
            "\rAnalyzing galaxies:  49%|████▉     | 83/170 [01:37<01:40,  1.16s/it]"
          ]
        },
        {
          "output_type": "stream",
          "name": "stdout",
          "text": [
            "NGC5907: v200=415.5 km/s, c=1.9, r200=593.6 kpc, rs=306.3 kpc\n",
            "NGC5907 (DF): md=0.80, mb=2.77, r0=142.88 kpc, delta0=0.71, beta=0.45\n"
          ]
        },
        {
          "output_type": "stream",
          "name": "stderr",
          "text": [
            "\rAnalyzing galaxies:  49%|████▉     | 84/170 [01:38<01:35,  1.12s/it]"
          ]
        },
        {
          "output_type": "stream",
          "name": "stdout",
          "text": [
            "NGC5985: v200=372.7 km/s, c=1.5, r200=532.5 kpc, rs=356.7 kpc\n",
            "NGC5985 (DF): md=0.93, mb=2.09, r0=199.87 kpc, delta0=0.71, beta=0.45\n"
          ]
        },
        {
          "output_type": "stream",
          "name": "stderr",
          "text": [
            "\rAnalyzing galaxies:  50%|█████     | 85/170 [01:38<01:22,  1.03it/s]"
          ]
        },
        {
          "output_type": "stream",
          "name": "stdout",
          "text": [
            "NGC6015: v200=402.4 km/s, c=9.7, r200=574.8 kpc, rs=59.0 kpc\n",
            "NGC6015 (DF): md=0.94, mb=3.72, r0=41.20 kpc, delta0=0.71, beta=0.45\n"
          ]
        },
        {
          "output_type": "stream",
          "name": "stderr",
          "text": [
            "\rAnalyzing galaxies:  51%|█████     | 86/170 [01:39<01:19,  1.06it/s]"
          ]
        },
        {
          "output_type": "stream",
          "name": "stdout",
          "text": [
            "NGC6195: v200=411.2 km/s, c=2.4, r200=587.4 kpc, rs=248.9 kpc\n",
            "NGC6195 (DF): md=0.39, mb=0.81, r0=52.20 kpc, delta0=0.71, beta=0.45\n"
          ]
        },
        {
          "output_type": "stream",
          "name": "stderr",
          "text": [
            "\rAnalyzing galaxies:  51%|█████     | 87/170 [01:40<01:17,  1.07it/s]"
          ]
        },
        {
          "output_type": "stream",
          "name": "stdout",
          "text": [
            "NGC6503: v200=396.0 km/s, c=28.4, r200=565.8 kpc, rs=19.9 kpc\n",
            "NGC6503 (DF): md=0.65, mb=8.30, r0=0.11 kpc, delta0=0.71, beta=0.45\n"
          ]
        },
        {
          "output_type": "stream",
          "name": "stderr",
          "text": [
            "\rAnalyzing galaxies:  52%|█████▏    | 88/170 [01:41<01:19,  1.03it/s]"
          ]
        },
        {
          "output_type": "stream",
          "name": "stdout",
          "text": [
            "NGC6674: v200=369.9 km/s, c=2.6, r200=528.4 kpc, rs=200.5 kpc\n",
            "NGC6674 (DF): md=0.48, mb=2.11, r0=39.47 kpc, delta0=0.71, beta=0.45\n"
          ]
        },
        {
          "output_type": "stream",
          "name": "stderr",
          "text": [
            "\rAnalyzing galaxies:  52%|█████▏    | 89/170 [01:42<01:15,  1.07it/s]"
          ]
        },
        {
          "output_type": "stream",
          "name": "stdout",
          "text": [
            "NGC6946: v200=429.9 km/s, c=18.8, r200=614.1 kpc, rs=32.7 kpc\n",
            "NGC6946 (DF): md=0.68, mb=0.82, r0=31.71 kpc, delta0=0.71, beta=0.45\n"
          ]
        },
        {
          "output_type": "stream",
          "name": "stderr",
          "text": [
            "\rAnalyzing galaxies:  53%|█████▎    | 90/170 [01:43<01:15,  1.05it/s]"
          ]
        },
        {
          "output_type": "stream",
          "name": "stdout",
          "text": [
            "NGC7331: v200=399.0 km/s, c=2.3, r200=570.1 kpc, rs=247.5 kpc\n",
            "NGC7331 (DF): md=0.47, mb=1.10, r0=15.46 kpc, delta0=0.71, beta=0.45\n"
          ]
        },
        {
          "output_type": "stream",
          "name": "stderr",
          "text": [
            "\rAnalyzing galaxies:  54%|█████▎    | 91/170 [01:44<01:07,  1.18it/s]"
          ]
        },
        {
          "output_type": "stream",
          "name": "stdout",
          "text": [
            "NGC7793: v200=323.8 km/s, c=53.0, r200=462.5 kpc, rs=8.7 kpc\n",
            "NGC7793 (DF): md=0.91, mb=8.01, r0=13.71 kpc, delta0=0.71, beta=0.45\n"
          ]
        },
        {
          "output_type": "stream",
          "name": "stderr",
          "text": [
            "\rAnalyzing galaxies:  54%|█████▍    | 92/170 [01:45<01:12,  1.07it/s]"
          ]
        },
        {
          "output_type": "stream",
          "name": "stdout",
          "text": [
            "NGC7814: v200=362.9 km/s, c=12.8, r200=518.5 kpc, rs=40.5 kpc\n",
            "NGC7814 (DF): md=0.50, mb=0.71, r0=0.72 kpc, delta0=0.71, beta=0.45\n"
          ]
        },
        {
          "output_type": "stream",
          "name": "stderr",
          "text": [
            "\rAnalyzing galaxies:  55%|█████▍    | 93/170 [01:45<01:07,  1.14it/s]"
          ]
        },
        {
          "output_type": "stream",
          "name": "stdout",
          "text": [
            "PGC51017: v200=50.0 km/s, c=52.3, r200=71.4 kpc, rs=1.4 kpc\n",
            "PGC51017 (DF): md=0.77, mb=7.08, r0=200.00 kpc, delta0=0.71, beta=0.45\n"
          ]
        },
        {
          "output_type": "stream",
          "name": "stderr",
          "text": [
            "\rAnalyzing galaxies:  55%|█████▌    | 94/170 [01:46<01:01,  1.23it/s]"
          ]
        },
        {
          "output_type": "stream",
          "name": "stdout",
          "text": [
            "UGC00128: v200=444.5 km/s, c=17.3, r200=635.0 kpc, rs=36.8 kpc\n",
            "UGC00128 (DF): md=1.48, mb=6.22, r0=56.66 kpc, delta0=0.71, beta=0.45\n"
          ]
        },
        {
          "output_type": "stream",
          "name": "stderr",
          "text": [
            "\rAnalyzing galaxies:  56%|█████▌    | 95/170 [01:47<01:04,  1.16it/s]"
          ]
        },
        {
          "output_type": "stream",
          "name": "stdout",
          "text": [
            "UGC00191: v200=258.9 km/s, c=14.2, r200=369.9 kpc, rs=26.1 kpc\n",
            "UGC00191 (DF): md=1.40, mb=4.13, r0=14.15 kpc, delta0=0.71, beta=0.45\n"
          ]
        },
        {
          "output_type": "stream",
          "name": "stderr",
          "text": [
            "\rAnalyzing galaxies:  56%|█████▋    | 96/170 [01:48<01:08,  1.07it/s]"
          ]
        },
        {
          "output_type": "stream",
          "name": "stdout",
          "text": [
            "UGC00731: v200=167.6 km/s, c=8.4, r200=239.5 kpc, rs=28.5 kpc\n",
            "UGC00731 (DF): md=3.76, mb=3.84, r0=173.83 kpc, delta0=0.71, beta=0.45\n"
          ]
        },
        {
          "output_type": "stream",
          "name": "stderr",
          "text": [
            "\rAnalyzing galaxies:  57%|█████▋    | 97/170 [01:49<01:16,  1.05s/it]"
          ]
        },
        {
          "output_type": "stream",
          "name": "stdout",
          "text": [
            "UGC00891: v200=323.3 km/s, c=2.4, r200=461.8 kpc, rs=195.1 kpc\n",
            "UGC00891 (DF): md=1.43, mb=5.05, r0=0.10 kpc, delta0=0.71, beta=0.45\n"
          ]
        },
        {
          "output_type": "stream",
          "name": "stderr",
          "text": [
            "\rAnalyzing galaxies:  58%|█████▊    | 98/170 [01:50<01:06,  1.08it/s]"
          ]
        },
        {
          "output_type": "stream",
          "name": "stdout",
          "text": [
            "UGC01230: v200=218.1 km/s, c=9.7, r200=311.6 kpc, rs=32.0 kpc\n",
            "UGC01230 (DF): md=1.62, mb=7.14, r0=152.97 kpc, delta0=0.71, beta=0.45\n"
          ]
        },
        {
          "output_type": "stream",
          "name": "stderr",
          "text": [
            "\rAnalyzing galaxies:  58%|█████▊    | 99/170 [01:51<01:07,  1.06it/s]"
          ]
        },
        {
          "output_type": "stream",
          "name": "stdout",
          "text": [
            "UGC01281: v200=433.4 km/s, c=2.0, r200=619.2 kpc, rs=315.8 kpc\n",
            "UGC01281 (DF): md=1.60, mb=6.74, r0=0.10 kpc, delta0=0.71, beta=0.45\n"
          ]
        },
        {
          "output_type": "stream",
          "name": "stderr",
          "text": [
            "\rAnalyzing galaxies:  59%|█████▉    | 100/170 [01:52<01:06,  1.05it/s]"
          ]
        },
        {
          "output_type": "stream",
          "name": "stdout",
          "text": [
            "UGC02023: v200=390.5 km/s, c=4.8, r200=557.9 kpc, rs=115.7 kpc\n",
            "UGC02023 (DF): md=0.85, mb=9.69, r0=0.10 kpc, delta0=0.71, beta=0.45\n"
          ]
        },
        {
          "output_type": "stream",
          "name": "stderr",
          "text": [
            "\rAnalyzing galaxies:  59%|█████▉    | 101/170 [01:53<01:00,  1.15it/s]"
          ]
        },
        {
          "output_type": "stream",
          "name": "stdout",
          "text": [
            "UGC02259: v200=259.1 km/s, c=46.9, r200=370.2 kpc, rs=7.9 kpc\n",
            "UGC02259 (DF): md=1.78, mb=5.07, r0=46.17 kpc, delta0=0.71, beta=0.45\n"
          ]
        },
        {
          "output_type": "stream",
          "name": "stderr",
          "text": [
            "\rAnalyzing galaxies:  60%|██████    | 102/170 [01:54<01:04,  1.05it/s]"
          ]
        },
        {
          "output_type": "stream",
          "name": "stdout",
          "text": [
            "UGC02455: v200=316.4 km/s, c=2.2, r200=451.9 kpc, rs=201.1 kpc\n",
            "UGC02455 (DF): md=0.33, mb=1.66, r0=0.10 kpc, delta0=0.71, beta=0.45\n"
          ]
        },
        {
          "output_type": "stream",
          "name": "stderr",
          "text": [
            "\rAnalyzing galaxies:  61%|██████    | 103/170 [01:55<01:05,  1.02it/s]"
          ]
        },
        {
          "output_type": "stream",
          "name": "stdout",
          "text": [
            "UGC02487: v200=365.1 km/s, c=1.3, r200=521.6 kpc, rs=402.1 kpc\n",
            "UGC02487 (DF): md=0.83, mb=1.00, r0=101.48 kpc, delta0=0.71, beta=0.45\n"
          ]
        },
        {
          "output_type": "stream",
          "name": "stderr",
          "text": [
            "\rAnalyzing galaxies:  61%|██████    | 104/170 [01:56<01:03,  1.03it/s]"
          ]
        },
        {
          "output_type": "stream",
          "name": "stdout",
          "text": [
            "UGC02885: v200=401.8 km/s, c=2.4, r200=574.0 kpc, rs=234.8 kpc\n",
            "UGC02885 (DF): md=0.67, mb=1.00, r0=90.01 kpc, delta0=0.71, beta=0.45\n"
          ]
        },
        {
          "output_type": "stream",
          "name": "stderr",
          "text": [
            "\rAnalyzing galaxies:  62%|██████▏   | 105/170 [01:57<00:58,  1.12it/s]"
          ]
        },
        {
          "output_type": "stream",
          "name": "stdout",
          "text": [
            "UGC02916: v200=448.5 km/s, c=17.7, r200=640.8 kpc, rs=36.2 kpc\n",
            "UGC02916 (DF): md=1.13, mb=0.70, r0=199.92 kpc, delta0=0.71, beta=0.45\n"
          ]
        },
        {
          "output_type": "stream",
          "name": "stderr",
          "text": [
            "\rAnalyzing galaxies:  62%|██████▏   | 106/170 [01:57<00:55,  1.15it/s]"
          ]
        },
        {
          "output_type": "stream",
          "name": "stdout",
          "text": [
            "UGC02953: v200=384.3 km/s, c=1.3, r200=549.0 kpc, rs=417.6 kpc\n",
            "UGC02953 (DF): md=0.64, mb=0.91, r0=17.73 kpc, delta0=0.71, beta=0.45\n"
          ]
        },
        {
          "output_type": "stream",
          "name": "stderr",
          "text": [
            "\rAnalyzing galaxies:  63%|██████▎   | 107/170 [01:58<00:55,  1.13it/s]"
          ]
        },
        {
          "output_type": "stream",
          "name": "stdout",
          "text": [
            "UGC03205: v200=356.4 km/s, c=2.3, r200=509.1 kpc, rs=221.6 kpc\n",
            "UGC03205 (DF): md=0.60, mb=1.16, r0=18.41 kpc, delta0=0.71, beta=0.45\n"
          ]
        },
        {
          "output_type": "stream",
          "name": "stderr",
          "text": [
            "\rAnalyzing galaxies:  64%|██████▎   | 108/170 [01:59<00:58,  1.06it/s]"
          ]
        },
        {
          "output_type": "stream",
          "name": "stdout",
          "text": [
            "UGC03546: v200=405.2 km/s, c=8.8, r200=578.8 kpc, rs=65.8 kpc\n",
            "UGC03546 (DF): md=0.64, mb=0.68, r0=12.02 kpc, delta0=0.71, beta=0.45\n"
          ]
        },
        {
          "output_type": "stream",
          "name": "stderr",
          "text": [
            "\rAnalyzing galaxies:  64%|██████▍   | 109/170 [02:01<01:07,  1.11s/it]"
          ]
        },
        {
          "output_type": "stream",
          "name": "stdout",
          "text": [
            "UGC03580: v200=425.7 km/s, c=15.3, r200=608.2 kpc, rs=39.8 kpc\n",
            "UGC03580 (DF): md=0.65, mb=0.48, r0=0.57 kpc, delta0=0.71, beta=0.45\n"
          ]
        },
        {
          "output_type": "stream",
          "name": "stderr",
          "text": [
            "\rAnalyzing galaxies:  65%|██████▍   | 110/170 [02:02<01:06,  1.12s/it]"
          ]
        },
        {
          "output_type": "stream",
          "name": "stdout",
          "text": [
            "UGC04278: v200=439.8 km/s, c=21.3, r200=628.3 kpc, rs=29.5 kpc\n",
            "UGC04278 (DF): md=1.27, mb=3.96, r0=0.34 kpc, delta0=0.71, beta=0.45\n"
          ]
        },
        {
          "output_type": "stream",
          "name": "stderr",
          "text": [
            "\rAnalyzing galaxies:  65%|██████▌   | 111/170 [02:03<00:59,  1.01s/it]"
          ]
        },
        {
          "output_type": "stream",
          "name": "stdout",
          "text": [
            "UGC04305: v200=50.0 km/s, c=48.8, r200=71.4 kpc, rs=1.5 kpc\n",
            "UGC04305 (DF): md=0.80, mb=0.80, r0=200.00 kpc, delta0=0.71, beta=0.45\n"
          ]
        },
        {
          "output_type": "stream",
          "name": "stderr",
          "text": [
            "\rAnalyzing galaxies:  66%|██████▌   | 112/170 [02:03<00:51,  1.13it/s]"
          ]
        },
        {
          "output_type": "stream",
          "name": "stdout",
          "text": [
            "UGC04325: v200=146.5 km/s, c=46.6, r200=209.2 kpc, rs=4.5 kpc\n",
            "UGC04325 (DF): md=1.74, mb=2.62, r0=200.00 kpc, delta0=0.71, beta=0.45\n"
          ]
        },
        {
          "output_type": "stream",
          "name": "stderr",
          "text": [
            "\rAnalyzing galaxies:  66%|██████▋   | 113/170 [02:04<00:51,  1.11it/s]"
          ]
        },
        {
          "output_type": "stream",
          "name": "stdout",
          "text": [
            "UGC04483: v200=108.3 km/s, c=43.6, r200=154.8 kpc, rs=3.6 kpc\n",
            "UGC04483 (DF): md=2.24, mb=6.21, r0=0.10 kpc, delta0=0.71, beta=0.45\n"
          ]
        },
        {
          "output_type": "stream",
          "name": "stderr",
          "text": [
            "\rAnalyzing galaxies:  67%|██████▋   | 114/170 [02:05<00:49,  1.14it/s]"
          ]
        },
        {
          "output_type": "stream",
          "name": "stdout",
          "text": [
            "UGC04499: v200=267.2 km/s, c=51.0, r200=381.7 kpc, rs=7.5 kpc\n",
            "UGC04499 (DF): md=1.16, mb=9.71, r0=4.07 kpc, delta0=0.71, beta=0.45\n"
          ]
        },
        {
          "output_type": "stream",
          "name": "stderr",
          "text": [
            "\rAnalyzing galaxies:  68%|██████▊   | 115/170 [02:06<00:46,  1.18it/s]"
          ]
        },
        {
          "output_type": "stream",
          "name": "stdout",
          "text": [
            "UGC05005: v200=285.2 km/s, c=8.8, r200=407.5 kpc, rs=46.2 kpc\n",
            "UGC05005 (DF): md=0.92, mb=0.71, r0=4.01 kpc, delta0=0.71, beta=0.45\n"
          ]
        },
        {
          "output_type": "stream",
          "name": "stderr",
          "text": [
            "\rAnalyzing galaxies:  68%|██████▊   | 116/170 [02:07<00:47,  1.15it/s]"
          ]
        },
        {
          "output_type": "stream",
          "name": "stdout",
          "text": [
            "UGC05253: v200=379.0 km/s, c=2.3, r200=541.5 kpc, rs=239.0 kpc\n",
            "UGC05253 (DF): md=0.67, mb=0.80, r0=30.16 kpc, delta0=0.71, beta=0.45\n"
          ]
        },
        {
          "output_type": "stream",
          "name": "stderr",
          "text": [
            "\rAnalyzing galaxies:  69%|██████▉   | 117/170 [02:08<00:48,  1.09it/s]"
          ]
        },
        {
          "output_type": "stream",
          "name": "stdout",
          "text": [
            "UGC05414: v200=392.4 km/s, c=11.2, r200=560.6 kpc, rs=50.1 kpc\n",
            "UGC05414 (DF): md=1.09, mb=1.51, r0=1.00 kpc, delta0=0.71, beta=0.45\n"
          ]
        },
        {
          "output_type": "stream",
          "name": "stderr",
          "text": [
            "\rAnalyzing galaxies:  69%|██████▉   | 118/170 [02:09<00:46,  1.12it/s]"
          ]
        },
        {
          "output_type": "stream",
          "name": "stdout",
          "text": [
            "UGC05716: v200=247.0 km/s, c=45.9, r200=352.9 kpc, rs=7.7 kpc\n",
            "UGC05716 (DF): md=1.54, mb=8.94, r0=0.44 kpc, delta0=0.71, beta=0.45\n"
          ]
        },
        {
          "output_type": "stream",
          "name": "stderr",
          "text": [
            "\rAnalyzing galaxies:  70%|███████   | 119/170 [02:10<00:45,  1.12it/s]"
          ]
        },
        {
          "output_type": "stream",
          "name": "stdout",
          "text": [
            "UGC05721: v200=333.2 km/s, c=53.8, r200=476.0 kpc, rs=8.8 kpc\n",
            "UGC05721 (DF): md=1.71, mb=4.06, r0=0.10 kpc, delta0=0.71, beta=0.45\n"
          ]
        },
        {
          "output_type": "stream",
          "name": "stderr",
          "text": [
            "\rAnalyzing galaxies:  71%|███████   | 120/170 [02:10<00:42,  1.18it/s]"
          ]
        },
        {
          "output_type": "stream",
          "name": "stdout",
          "text": [
            "UGC05750: v200=131.4 km/s, c=2.9, r200=187.7 kpc, rs=65.0 kpc\n",
            "UGC05750 (DF): md=1.43, mb=8.63, r0=80.34 kpc, delta0=0.71, beta=0.45\n"
          ]
        },
        {
          "output_type": "stream",
          "name": "stderr",
          "text": [
            "\rAnalyzing galaxies:  71%|███████   | 121/170 [02:11<00:38,  1.27it/s]"
          ]
        },
        {
          "output_type": "stream",
          "name": "stdout",
          "text": [
            "UGC05764: v200=185.0 km/s, c=59.4, r200=264.3 kpc, rs=4.4 kpc\n",
            "UGC05764 (DF): md=3.68, mb=5.44, r0=6.81 kpc, delta0=0.71, beta=0.45\n"
          ]
        },
        {
          "output_type": "stream",
          "name": "stderr",
          "text": [
            "\rAnalyzing galaxies:  72%|███████▏  | 122/170 [02:12<00:42,  1.14it/s]"
          ]
        },
        {
          "output_type": "stream",
          "name": "stdout",
          "text": [
            "UGC05829: v200=282.8 km/s, c=2.6, r200=404.0 kpc, rs=158.2 kpc\n",
            "UGC05829 (DF): md=1.84, mb=7.00, r0=18.74 kpc, delta0=0.71, beta=0.45\n"
          ]
        },
        {
          "output_type": "stream",
          "name": "stderr",
          "text": [
            "\rAnalyzing galaxies:  72%|███████▏  | 123/170 [02:13<00:43,  1.08it/s]"
          ]
        },
        {
          "output_type": "stream",
          "name": "stdout",
          "text": [
            "UGC05918: v200=111.1 km/s, c=21.1, r200=158.6 kpc, rs=7.5 kpc\n",
            "UGC05918 (DF): md=2.22, mb=4.49, r0=200.00 kpc, delta0=0.71, beta=0.45\n"
          ]
        },
        {
          "output_type": "stream",
          "name": "stderr",
          "text": [
            "\rAnalyzing galaxies:  73%|███████▎  | 124/170 [02:14<00:44,  1.02it/s]"
          ]
        },
        {
          "output_type": "stream",
          "name": "stdout",
          "text": [
            "UGC05986: v200=356.1 km/s, c=27.4, r200=508.7 kpc, rs=18.5 kpc\n",
            "UGC05986 (DF): md=1.03, mb=1.48, r0=0.45 kpc, delta0=0.71, beta=0.45\n"
          ]
        },
        {
          "output_type": "stream",
          "name": "stderr",
          "text": [
            "\rAnalyzing galaxies:  74%|███████▎  | 125/170 [02:15<00:41,  1.09it/s]"
          ]
        },
        {
          "output_type": "stream",
          "name": "stdout",
          "text": [
            "UGC05999: v200=333.1 km/s, c=13.8, r200=475.9 kpc, rs=34.5 kpc\n",
            "UGC05999 (DF): md=1.20, mb=0.20, r0=9.37 kpc, delta0=0.71, beta=0.45\n"
          ]
        },
        {
          "output_type": "stream",
          "name": "stderr",
          "text": [
            "\rAnalyzing galaxies:  74%|███████▍  | 126/170 [02:16<00:38,  1.14it/s]"
          ]
        },
        {
          "output_type": "stream",
          "name": "stdout",
          "text": [
            "UGC06399: v200=363.4 km/s, c=7.7, r200=519.2 kpc, rs=67.9 kpc\n",
            "UGC06399 (DF): md=1.34, mb=8.54, r0=8.19 kpc, delta0=0.71, beta=0.45\n"
          ]
        },
        {
          "output_type": "stream",
          "name": "stderr",
          "text": [
            "\rAnalyzing galaxies:  75%|███████▍  | 127/170 [02:17<00:37,  1.15it/s]"
          ]
        },
        {
          "output_type": "stream",
          "name": "stdout",
          "text": [
            "UGC06446: v200=275.2 km/s, c=47.6, r200=393.1 kpc, rs=8.3 kpc\n",
            "UGC06446 (DF): md=1.75, mb=7.26, r0=3.79 kpc, delta0=0.71, beta=0.45\n"
          ]
        },
        {
          "output_type": "stream",
          "name": "stderr",
          "text": [
            "\rAnalyzing galaxies:  75%|███████▌  | 128/170 [02:18<00:37,  1.13it/s]"
          ]
        },
        {
          "output_type": "stream",
          "name": "stdout",
          "text": [
            "UGC06614: v200=429.6 km/s, c=1.8, r200=613.7 kpc, rs=347.8 kpc\n",
            "UGC06614 (DF): md=0.64, mb=0.60, r0=13.33 kpc, delta0=0.71, beta=0.45\n"
          ]
        },
        {
          "output_type": "stream",
          "name": "stderr",
          "text": [
            "\rAnalyzing galaxies:  76%|███████▌  | 129/170 [02:18<00:34,  1.20it/s]"
          ]
        },
        {
          "output_type": "stream",
          "name": "stdout",
          "text": [
            "UGC06628: v200=85.5 km/s, c=58.7, r200=122.1 kpc, rs=2.1 kpc\n",
            "UGC06628 (DF): md=0.74, mb=5.29, r0=200.00 kpc, delta0=0.71, beta=0.45\n"
          ]
        },
        {
          "output_type": "stream",
          "name": "stderr",
          "text": [
            "\rAnalyzing galaxies:  76%|███████▋  | 130/170 [02:19<00:30,  1.30it/s]"
          ]
        },
        {
          "output_type": "stream",
          "name": "stdout",
          "text": [
            "UGC06667: v200=178.0 km/s, c=33.1, r200=254.3 kpc, rs=7.7 kpc\n",
            "UGC06667 (DF): md=3.38, mb=4.82, r0=200.00 kpc, delta0=0.71, beta=0.45\n"
          ]
        },
        {
          "output_type": "stream",
          "name": "stderr",
          "text": [
            "\rAnalyzing galaxies:  77%|███████▋  | 131/170 [02:21<00:41,  1.06s/it]"
          ]
        },
        {
          "output_type": "stream",
          "name": "stdout",
          "text": [
            "UGC06786: v200=388.3 km/s, c=2.0, r200=554.7 kpc, rs=280.0 kpc\n",
            "UGC06786 (DF): md=0.49, mb=0.84, r0=0.10 kpc, delta0=0.71, beta=0.45\n"
          ]
        },
        {
          "output_type": "stream",
          "name": "stderr",
          "text": [
            "\rAnalyzing galaxies:  78%|███████▊  | 132/170 [02:22<00:44,  1.16s/it]"
          ]
        },
        {
          "output_type": "stream",
          "name": "stdout",
          "text": [
            "UGC06787: v200=373.1 km/s, c=1.4, r200=533.0 kpc, rs=369.2 kpc\n",
            "UGC06787 (DF): md=0.58, mb=0.67, r0=0.57 kpc, delta0=0.71, beta=0.45\n"
          ]
        },
        {
          "output_type": "stream",
          "name": "stderr",
          "text": [
            "\rAnalyzing galaxies:  78%|███████▊  | 133/170 [02:23<00:42,  1.16s/it]"
          ]
        },
        {
          "output_type": "stream",
          "name": "stdout",
          "text": [
            "UGC06818: v200=400.9 km/s, c=8.1, r200=572.7 kpc, rs=71.0 kpc\n",
            "UGC06818 (DF): md=0.84, mb=0.28, r0=0.10 kpc, delta0=0.71, beta=0.45\n"
          ]
        },
        {
          "output_type": "stream",
          "name": "stderr",
          "text": [
            "\rAnalyzing galaxies:  79%|███████▉  | 134/170 [02:24<00:37,  1.03s/it]"
          ]
        },
        {
          "output_type": "stream",
          "name": "stdout",
          "text": [
            "UGC06917: v200=350.8 km/s, c=29.6, r200=501.1 kpc, rs=16.9 kpc\n",
            "UGC06917 (DF): md=1.09, mb=3.24, r0=9.78 kpc, delta0=0.71, beta=0.45\n"
          ]
        },
        {
          "output_type": "stream",
          "name": "stderr",
          "text": [
            "\rAnalyzing galaxies:  79%|███████▉  | 135/170 [02:25<00:36,  1.04s/it]"
          ]
        },
        {
          "output_type": "stream",
          "name": "stdout",
          "text": [
            "UGC06923: v200=389.4 km/s, c=49.4, r200=556.3 kpc, rs=11.3 kpc\n",
            "UGC06923 (DF): md=0.84, mb=4.74, r0=0.29 kpc, delta0=0.71, beta=0.45\n"
          ]
        },
        {
          "output_type": "stream",
          "name": "stderr",
          "text": [
            "\rAnalyzing galaxies:  80%|████████  | 136/170 [02:26<00:34,  1.00s/it]"
          ]
        },
        {
          "output_type": "stream",
          "name": "stdout",
          "text": [
            "UGC06930: v200=330.2 km/s, c=45.6, r200=471.7 kpc, rs=10.3 kpc\n",
            "UGC06930 (DF): md=1.21, mb=6.73, r0=93.36 kpc, delta0=0.71, beta=0.45\n"
          ]
        },
        {
          "output_type": "stream",
          "name": "stderr",
          "text": [
            "\rAnalyzing galaxies:  81%|████████  | 137/170 [02:28<00:40,  1.23s/it]"
          ]
        },
        {
          "output_type": "stream",
          "name": "stdout",
          "text": [
            "UGC06973: v200=358.0 km/s, c=49.4, r200=511.4 kpc, rs=10.3 kpc\n",
            "UGC06973 (DF): md=0.47, mb=0.10, r0=0.10 kpc, delta0=0.71, beta=0.45\n"
          ]
        },
        {
          "output_type": "stream",
          "name": "stderr",
          "text": [
            "\rAnalyzing galaxies:  81%|████████  | 138/170 [02:28<00:33,  1.05s/it]"
          ]
        },
        {
          "output_type": "stream",
          "name": "stdout",
          "text": [
            "UGC06983: v200=432.6 km/s, c=42.1, r200=618.0 kpc, rs=14.7 kpc\n",
            "UGC06983 (DF): md=1.24, mb=1.83, r0=9.46 kpc, delta0=0.71, beta=0.45\n"
          ]
        },
        {
          "output_type": "stream",
          "name": "stderr",
          "text": [
            "\rAnalyzing galaxies:  82%|████████▏ | 139/170 [02:29<00:29,  1.04it/s]"
          ]
        },
        {
          "output_type": "stream",
          "name": "stdout",
          "text": [
            "UGC07089: v200=417.1 km/s, c=2.8, r200=595.9 kpc, rs=213.9 kpc\n",
            "UGC07089 (DF): md=0.88, mb=4.31, r0=4.54 kpc, delta0=0.71, beta=0.45\n"
          ]
        },
        {
          "output_type": "stream",
          "name": "stderr",
          "text": [
            "\rAnalyzing galaxies:  82%|████████▏ | 140/170 [02:30<00:26,  1.14it/s]"
          ]
        },
        {
          "output_type": "stream",
          "name": "stdout",
          "text": [
            "UGC07125: v200=172.6 km/s, c=22.0, r200=246.6 kpc, rs=11.2 kpc\n",
            "UGC07125 (DF): md=1.10, mb=1.57, r0=98.70 kpc, delta0=0.71, beta=0.45\n"
          ]
        },
        {
          "output_type": "stream",
          "name": "stderr",
          "text": [
            "\rAnalyzing galaxies:  83%|████████▎ | 141/170 [02:31<00:25,  1.14it/s]"
          ]
        },
        {
          "output_type": "stream",
          "name": "stdout",
          "text": [
            "UGC07151: v200=296.8 km/s, c=2.8, r200=423.9 kpc, rs=150.1 kpc\n",
            "UGC07151 (DF): md=1.18, mb=3.13, r0=18.50 kpc, delta0=0.71, beta=0.45\n"
          ]
        },
        {
          "output_type": "stream",
          "name": "stderr",
          "text": [
            "\rAnalyzing galaxies:  84%|████████▎ | 142/170 [02:31<00:22,  1.24it/s]"
          ]
        },
        {
          "output_type": "stream",
          "name": "stdout",
          "text": [
            "UGC07261: v200=251.2 km/s, c=45.3, r200=358.9 kpc, rs=7.9 kpc\n",
            "UGC07261 (DF): md=1.18, mb=4.05, r0=5.03 kpc, delta0=0.71, beta=0.45\n"
          ]
        },
        {
          "output_type": "stream",
          "name": "stderr",
          "text": [
            "\rAnalyzing galaxies:  84%|████████▍ | 143/170 [02:32<00:21,  1.24it/s]"
          ]
        },
        {
          "output_type": "stream",
          "name": "stdout",
          "text": [
            "UGC07323: v200=357.3 km/s, c=10.2, r200=510.4 kpc, rs=50.2 kpc\n",
            "UGC07323 (DF): md=0.98, mb=9.69, r0=13.17 kpc, delta0=0.71, beta=0.45\n"
          ]
        },
        {
          "output_type": "stream",
          "name": "stderr",
          "text": [
            "\rAnalyzing galaxies:  85%|████████▍ | 144/170 [02:33<00:22,  1.16it/s]"
          ]
        },
        {
          "output_type": "stream",
          "name": "stdout",
          "text": [
            "UGC07399: v200=442.8 km/s, c=40.3, r200=632.5 kpc, rs=15.7 kpc\n",
            "UGC07399 (DF): md=1.77, mb=6.04, r0=0.10 kpc, delta0=0.71, beta=0.45\n"
          ]
        },
        {
          "output_type": "stream",
          "name": "stderr",
          "text": [
            "\rAnalyzing galaxies:  85%|████████▌ | 145/170 [02:34<00:20,  1.19it/s]"
          ]
        },
        {
          "output_type": "stream",
          "name": "stdout",
          "text": [
            "UGC07524: v200=289.6 km/s, c=24.1, r200=413.7 kpc, rs=17.2 kpc\n",
            "UGC07524 (DF): md=1.65, mb=4.10, r0=200.00 kpc, delta0=0.71, beta=0.45\n"
          ]
        },
        {
          "output_type": "stream",
          "name": "stderr",
          "text": [
            "\rAnalyzing galaxies:  86%|████████▌ | 146/170 [02:35<00:22,  1.06it/s]"
          ]
        },
        {
          "output_type": "stream",
          "name": "stdout",
          "text": [
            "UGC07559: v200=215.9 km/s, c=1.8, r200=308.4 kpc, rs=174.9 kpc\n",
            "UGC07559 (DF): md=1.23, mb=7.28, r0=0.10 kpc, delta0=0.71, beta=0.45\n"
          ]
        },
        {
          "output_type": "stream",
          "name": "stderr",
          "text": [
            "\rAnalyzing galaxies:  86%|████████▋ | 147/170 [02:36<00:22,  1.04it/s]"
          ]
        },
        {
          "output_type": "stream",
          "name": "stdout",
          "text": [
            "UGC07577: v200=64.3 km/s, c=1.5, r200=91.8 kpc, rs=60.1 kpc\n",
            "UGC07577 (DF): md=0.87, mb=6.48, r0=0.18 kpc, delta0=0.71, beta=0.45\n"
          ]
        },
        {
          "output_type": "stream",
          "name": "stderr",
          "text": [
            "\rAnalyzing galaxies:  87%|████████▋ | 148/170 [02:37<00:20,  1.07it/s]"
          ]
        },
        {
          "output_type": "stream",
          "name": "stdout",
          "text": [
            "UGC07603: v200=291.6 km/s, c=47.4, r200=416.5 kpc, rs=8.8 kpc\n",
            "UGC07603 (DF): md=1.56, mb=2.82, r0=0.10 kpc, delta0=0.71, beta=0.45\n"
          ]
        },
        {
          "output_type": "stream",
          "name": "stderr",
          "text": [
            "\rAnalyzing galaxies:  88%|████████▊ | 149/170 [02:38<00:22,  1.09s/it]"
          ]
        },
        {
          "output_type": "stream",
          "name": "stdout",
          "text": [
            "UGC07608: v200=412.9 km/s, c=16.1, r200=589.9 kpc, rs=36.6 kpc\n",
            "UGC07608 (DF): md=2.26, mb=3.28, r0=0.10 kpc, delta0=0.71, beta=0.45\n"
          ]
        },
        {
          "output_type": "stream",
          "name": "stderr",
          "text": [
            "\rAnalyzing galaxies:  88%|████████▊ | 150/170 [02:39<00:22,  1.11s/it]"
          ]
        },
        {
          "output_type": "stream",
          "name": "stdout",
          "text": [
            "UGC07690: v200=172.2 km/s, c=49.9, r200=246.0 kpc, rs=4.9 kpc\n",
            "UGC07690 (DF): md=1.12, mb=0.31, r0=1.78 kpc, delta0=0.71, beta=0.45\n"
          ]
        },
        {
          "output_type": "stream",
          "name": "stderr",
          "text": [
            "\rAnalyzing galaxies:  89%|████████▉ | 151/170 [02:40<00:19,  1.05s/it]"
          ]
        },
        {
          "output_type": "stream",
          "name": "stdout",
          "text": [
            "UGC07866: v200=169.4 km/s, c=1.7, r200=242.0 kpc, rs=141.0 kpc\n",
            "UGC07866 (DF): md=1.40, mb=7.25, r0=1.62 kpc, delta0=0.71, beta=0.45\n"
          ]
        },
        {
          "output_type": "stream",
          "name": "stderr",
          "text": [
            "\rAnalyzing galaxies:  89%|████████▉ | 152/170 [02:41<00:18,  1.02s/it]"
          ]
        },
        {
          "output_type": "stream",
          "name": "stdout",
          "text": [
            "UGC08286: v200=372.1 km/s, c=5.6, r200=531.6 kpc, rs=95.4 kpc\n",
            "UGC08286 (DF): md=1.55, mb=6.26, r0=2.42 kpc, delta0=0.71, beta=0.45\n"
          ]
        },
        {
          "output_type": "stream",
          "name": "stderr",
          "text": [
            "\rAnalyzing galaxies:  90%|█████████ | 153/170 [02:42<00:16,  1.01it/s]"
          ]
        },
        {
          "output_type": "stream",
          "name": "stdout",
          "text": [
            "UGC08490: v200=274.0 km/s, c=53.9, r200=391.5 kpc, rs=7.3 kpc\n",
            "UGC08490 (DF): md=1.37, mb=8.46, r0=0.10 kpc, delta0=0.71, beta=0.45\n"
          ]
        },
        {
          "output_type": "stream",
          "name": "stderr",
          "text": [
            "\rAnalyzing galaxies:  91%|█████████ | 154/170 [02:43<00:16,  1.01s/it]"
          ]
        },
        {
          "output_type": "stream",
          "name": "stdout",
          "text": [
            "UGC08550: v200=211.3 km/s, c=32.2, r200=301.9 kpc, rs=9.4 kpc\n",
            "UGC08550 (DF): md=1.60, mb=9.19, r0=0.10 kpc, delta0=0.71, beta=0.45\n"
          ]
        },
        {
          "output_type": "stream",
          "name": "stderr",
          "text": [
            "\rAnalyzing galaxies:  91%|█████████ | 155/170 [02:44<00:15,  1.01s/it]"
          ]
        },
        {
          "output_type": "stream",
          "name": "stdout",
          "text": [
            "UGC08699: v200=386.6 km/s, c=10.8, r200=552.3 kpc, rs=51.4 kpc\n",
            "UGC08699 (DF): md=0.56, mb=0.89, r0=1.85 kpc, delta0=0.71, beta=0.45\n"
          ]
        },
        {
          "output_type": "stream",
          "name": "stderr",
          "text": [
            "\rAnalyzing galaxies:  92%|█████████▏| 156/170 [02:45<00:14,  1.03s/it]"
          ]
        },
        {
          "output_type": "stream",
          "name": "stdout",
          "text": [
            "UGC08837: v200=208.9 km/s, c=2.4, r200=298.4 kpc, rs=123.6 kpc\n",
            "UGC08837 (DF): md=0.85, mb=3.56, r0=0.10 kpc, delta0=0.71, beta=0.45\n"
          ]
        },
        {
          "output_type": "stream",
          "name": "stderr",
          "text": [
            "\rAnalyzing galaxies:  92%|█████████▏| 157/170 [02:46<00:12,  1.06it/s]"
          ]
        },
        {
          "output_type": "stream",
          "name": "stdout",
          "text": [
            "UGC09037: v200=427.6 km/s, c=10.7, r200=610.8 kpc, rs=56.8 kpc\n",
            "UGC09037 (DF): md=0.54, mb=6.90, r0=17.49 kpc, delta0=0.71, beta=0.45\n"
          ]
        },
        {
          "output_type": "stream",
          "name": "stderr",
          "text": [
            "\rAnalyzing galaxies:  93%|█████████▎| 158/170 [02:47<00:11,  1.08it/s]"
          ]
        },
        {
          "output_type": "stream",
          "name": "stdout",
          "text": [
            "UGC09133: v200=447.3 km/s, c=2.0, r200=639.0 kpc, rs=325.2 kpc\n",
            "UGC09133 (DF): md=0.74, mb=0.75, r0=89.57 kpc, delta0=0.71, beta=0.45\n"
          ]
        },
        {
          "output_type": "stream",
          "name": "stderr",
          "text": [
            "\rAnalyzing galaxies:  94%|█████████▎| 159/170 [02:48<00:10,  1.03it/s]"
          ]
        },
        {
          "output_type": "stream",
          "name": "stdout",
          "text": [
            "UGC09992: v200=50.0 km/s, c=41.1, r200=71.4 kpc, rs=1.7 kpc\n",
            "UGC09992 (DF): md=1.24, mb=1.51, r0=200.00 kpc, delta0=0.71, beta=0.45\n"
          ]
        },
        {
          "output_type": "stream",
          "name": "stderr",
          "text": [
            "\rAnalyzing galaxies:  94%|█████████▍| 160/170 [02:49<00:09,  1.11it/s]"
          ]
        },
        {
          "output_type": "stream",
          "name": "stdout",
          "text": [
            "UGC10310: v200=159.8 km/s, c=2.3, r200=228.2 kpc, rs=98.4 kpc\n",
            "UGC10310 (DF): md=1.51, mb=2.70, r0=166.55 kpc, delta0=0.71, beta=0.45\n"
          ]
        },
        {
          "output_type": "stream",
          "name": "stderr",
          "text": [
            "\rAnalyzing galaxies:  95%|█████████▍| 161/170 [02:50<00:07,  1.19it/s]"
          ]
        },
        {
          "output_type": "stream",
          "name": "stdout",
          "text": [
            "UGC11455: v200=397.3 km/s, c=2.8, r200=567.5 kpc, rs=203.1 kpc\n",
            "UGC11455 (DF): md=0.67, mb=4.66, r0=102.19 kpc, delta0=0.71, beta=0.45\n"
          ]
        },
        {
          "output_type": "stream",
          "name": "stderr",
          "text": [
            "\rAnalyzing galaxies:  95%|█████████▌| 162/170 [02:50<00:06,  1.15it/s]"
          ]
        },
        {
          "output_type": "stream",
          "name": "stdout",
          "text": [
            "UGC11557: v200=306.6 km/s, c=1.6, r200=438.0 kpc, rs=275.8 kpc\n",
            "UGC11557 (DF): md=0.59, mb=6.19, r0=13.85 kpc, delta0=0.71, beta=0.45\n"
          ]
        },
        {
          "output_type": "stream",
          "name": "stderr",
          "text": [
            "\rAnalyzing galaxies:  96%|█████████▌| 163/170 [02:52<00:06,  1.02it/s]"
          ]
        },
        {
          "output_type": "stream",
          "name": "stdout",
          "text": [
            "UGC11820: v200=248.3 km/s, c=3.7, r200=354.7 kpc, rs=95.7 kpc\n",
            "UGC11820 (DF): md=1.51, mb=8.86, r0=4.34 kpc, delta0=0.71, beta=0.45\n"
          ]
        },
        {
          "output_type": "stream",
          "name": "stderr",
          "text": [
            "\rAnalyzing galaxies:  96%|█████████▋| 164/170 [02:53<00:06,  1.01s/it]"
          ]
        },
        {
          "output_type": "stream",
          "name": "stdout",
          "text": [
            "UGC11914: v200=363.7 km/s, c=24.1, r200=519.5 kpc, rs=21.6 kpc\n",
            "UGC11914 (DF): md=0.51, mb=1.02, r0=6.16 kpc, delta0=0.71, beta=0.45\n"
          ]
        },
        {
          "output_type": "stream",
          "name": "stderr",
          "text": [
            "\rAnalyzing galaxies:  97%|█████████▋| 165/170 [02:54<00:04,  1.08it/s]"
          ]
        },
        {
          "output_type": "stream",
          "name": "stdout",
          "text": [
            "UGC12506: v200=382.5 km/s, c=2.7, r200=546.4 kpc, rs=199.6 kpc\n",
            "UGC12506 (DF): md=1.09, mb=2.04, r0=200.00 kpc, delta0=0.71, beta=0.45\n"
          ]
        },
        {
          "output_type": "stream",
          "name": "stderr",
          "text": [
            "\rAnalyzing galaxies:  98%|█████████▊| 166/170 [02:54<00:03,  1.12it/s]"
          ]
        },
        {
          "output_type": "stream",
          "name": "stdout",
          "text": [
            "UGC12632: v200=179.6 km/s, c=11.2, r200=256.6 kpc, rs=23.0 kpc\n",
            "UGC12632 (DF): md=1.84, mb=4.57, r0=87.06 kpc, delta0=0.71, beta=0.45\n"
          ]
        },
        {
          "output_type": "stream",
          "name": "stderr",
          "text": [
            "\rAnalyzing galaxies:  98%|█████████▊| 167/170 [02:55<00:02,  1.13it/s]"
          ]
        },
        {
          "output_type": "stream",
          "name": "stdout",
          "text": [
            "UGC12732: v200=287.1 km/s, c=7.3, r200=410.1 kpc, rs=56.1 kpc\n",
            "UGC12732 (DF): md=1.54, mb=1.61, r0=6.89 kpc, delta0=0.71, beta=0.45\n"
          ]
        },
        {
          "output_type": "stream",
          "name": "stderr",
          "text": [
            "\rAnalyzing galaxies:  99%|█████████▉| 168/170 [02:56<00:01,  1.06it/s]"
          ]
        },
        {
          "output_type": "stream",
          "name": "stdout",
          "text": [
            "UGCA281: v200=312.1 km/s, c=2.6, r200=445.9 kpc, rs=168.3 kpc\n",
            "UGCA281 (DF): md=1.61, mb=5.21, r0=0.14 kpc, delta0=0.71, beta=0.45\n"
          ]
        },
        {
          "output_type": "stream",
          "name": "stderr",
          "text": [
            "\rAnalyzing galaxies:  99%|█████████▉| 169/170 [02:57<00:00,  1.09it/s]"
          ]
        },
        {
          "output_type": "stream",
          "name": "stdout",
          "text": [
            "UGCA442: v200=275.3 km/s, c=7.2, r200=393.3 kpc, rs=54.4 kpc\n",
            "UGCA442 (DF): md=2.28, mb=9.31, r0=0.10 kpc, delta0=0.71, beta=0.45\n"
          ]
        },
        {
          "output_type": "stream",
          "name": "stderr",
          "text": [
            "Analyzing galaxies: 100%|██████████| 170/170 [02:58<00:00,  1.05s/it]"
          ]
        },
        {
          "output_type": "stream",
          "name": "stdout",
          "text": [
            "UGCA444: v200=262.6 km/s, c=2.6, r200=375.2 kpc, rs=145.6 kpc\n",
            "UGCA444 (DF): md=4.59, mb=6.36, r0=1.04 kpc, delta0=0.71, beta=0.45\n",
            "Total results obtained: 170\n",
            "Number of NaN values: LCDM=0, MOND=0, EG=0, DF=0\n",
            "\n",
            "Results for individual galaxies (sorted by best χ²):\n",
            "  Galaxy  n_points best_model_chi2  LCDM_chi2  MOND_chi2  EG_chi2  DF_chi2  LCDM_AIC   MOND_AIC    EG_AIC   DF_AIC\n",
            "UGC07866         7              EG   0.055721   1.240676 0.052725 0.122499  8.167163  10.203382  4.263624 6.489996\n",
            " F563-V2        10              DF   0.461159   0.394119 0.301313 0.054124 10.766951   7.152956  6.410508 6.378866\n",
            "UGC05829        11              EG   0.103792   2.834277 0.060726 0.129318  8.726541  29.508490  4.546531 7.034540\n",
            " NGC5005        18            MOND   0.296693   0.060764 0.173439 0.075588 12.153699   4.972216  6.775018 7.133825\n",
            " UGCA444        36            ΛCDM   0.063428   1.938528 0.187090 0.114975 10.029683  69.909946 10.361067 9.794186\n",
            "UGC05414         6            MOND   1.468336   0.080351 2.445476 0.155823 10.936671   4.321405 13.781904 6.467470\n",
            "UGC00731        12            ΛCDM   0.086563  14.717017 1.067110 0.184265  8.692505 151.170170 14.671105 7.658381\n",
            " UGCA281         6              DF   0.391175   0.139484 0.375224 0.101266  8.782350   4.557938  5.500895 6.303797\n",
            "UGC09992         5            ΛCDM   0.101541   4.671396 0.952925 0.117752  8.101541  18.014188  6.858775 6.235505\n",
            "UGC05005        11              DF   0.246393   0.606225 1.045697 0.112636  9.724750   9.456029 13.411269 6.901087\n",
            "  F583-4        12            MOND   0.145916   0.126386 0.244066 0.385189  9.167329   5.263859  6.440659 9.466697\n",
            "UGC06399         9              DF   0.720558   0.374725 0.840977 0.129877 11.602791   6.623072  9.886836 6.779259\n",
            "UGC05918         8            ΛCDM   0.131113   1.351369 0.296498 0.294766  8.524451  12.108215  5.778988 7.473830\n",
            "UGC12732        16            ΛCDM   0.136174   4.232455 1.983628 0.211817  9.634086  63.254372 31.770796 8.753615\n",
            " F571-V1         7              DF   0.530655   0.319786 0.914212 0.144969  9.591964   5.598932  8.571062 6.579877\n",
            "UGC10310         7              DF   0.196402   2.948260 0.362505 0.146357  8.589205  18.741302  5.812525 6.585427\n",
            "  F574-2         5            ΛCDM   0.147255  16.482675 2.705777 0.205809  8.147255  53.448026 12.117331 6.411617\n",
            " F568-V1        15              EG   0.162534   0.314272 0.152096 0.166414  9.787869   8.085534  5.977242 7.996968\n",
            "UGC07089        12            MOND   0.248204   0.160842 0.793551 0.297721  9.985631   5.608421 11.935508 8.679493\n",
            "UGC07577         9            ΛCDM   0.161455   8.407240 0.763814 0.165514  8.807277  62.850677  9.346697 6.993082\n",
            "\n",
            "Examples of model parameters for several galaxies:\n",
            "  Galaxy best_model_chi2  LCDM_v200    LCDM_c  LCDM_md  LCDM_mb  MOND_md  MOND_mb    EG_md    EG_mb    DF_md    DF_mb      DF_r0\n",
            "UGC07866              EG 169.373218  1.715927 0.918333 4.559590 0.240782 0.709840 0.752268 0.634066 1.402702 7.247543   1.619503\n",
            " F563-V2              DF 371.472545  1.888885 2.096294 1.891674 1.427462 0.220235 1.859118 0.200000 2.139475 1.032901  56.339167\n",
            "UGC05829              EG 282.769561  2.553944 0.889743 1.005465 0.518225 0.797149 1.182471 0.402525 1.837750 6.997266  18.738221\n",
            " NGC5005            MOND 381.841143 20.717924 0.822906 0.646546 0.719685 0.685005 0.754505 0.632380 0.698258 0.734657  71.357363\n",
            " UGCA444            ΛCDM 262.614487  2.576639 0.100000 3.269020 0.272824 0.505781 2.027021 0.200000 4.586812 6.355538   1.039200\n",
            "UGC05414            MOND 392.449810 11.186345 0.100000 3.584494 0.389644 0.905798 0.844216 0.534864 1.093779 1.505124   1.002460\n",
            "UGC00731            ΛCDM 167.642633  8.397404 3.197724 4.245782 1.163159 0.432082 2.444995 0.200000 3.757335 3.844436 173.828293\n",
            " UGCA281              DF 312.125726  2.649594 0.928927 4.659785 0.495073 0.833089 0.913629 0.437758 1.611736 5.205777   0.143068\n",
            "UGC09992            ΛCDM  50.000000 41.138020 1.155390 2.150005 0.200000 1.085000 0.594194 0.752903 1.240629 1.511929 200.000000\n",
            "UGC05005              DF 285.232984  8.813370 0.261310 3.977642 0.324700 0.889837 0.857248 0.511018 0.917779 0.713074   4.008906\n",
            "\n",
            "Distribution of best models by χ²:\n",
            "ΛCDM: 50 galaxies (29.4%)\n",
            "MOND: 33 galaxies (19.4%)\n",
            "EG: 9 galaxies (5.3%)\n",
            "DF: 78 galaxies (45.9%)\n",
            "\n",
            "Distribution of best models by AIC (accounting for complexity):\n",
            "ΛCDM: 41 galaxies (24.1%)\n",
            "MOND: 38 galaxies (22.4%)\n",
            "EG: 19 galaxies (11.2%)\n",
            "DF: 72 galaxies (42.4%)\n",
            "\n",
            "Summary statistics:\n",
            "Model  Parameters  Mean_χ²  Median_χ²   Mean_AIC  Median_AIC  Best_by_χ²  Best_by_χ²(%)  Best_by_AIC  Best_by_AIC(%)  Success_rate(%)\n",
            " ΛCDM           4 7.659068   1.983994 256.886836   26.364050          50      29.411765           41       24.117647            100.0\n",
            " MOND           2 7.153170   3.038610 127.828789   41.489073          33      19.411765           38       22.352941            100.0\n",
            "   EG           2 9.553478   3.548405 291.275890   53.048235           9       5.294118           19       11.176471            100.0\n",
            "   DF           3 3.632988   1.532285  80.625638   24.681770          78      45.882353           72       42.352941            100.0\n",
            "\n",
            "Statistical analysis of differences between models:\n",
            "ΛCDM significantly better than MOND: 63 galaxies\n",
            "MOND significantly better than ΛCDM: 46 galaxies\n",
            "ΛCDM significantly better than EG: 63 galaxies\n",
            "EG significantly better than ΛCDM: 28 galaxies\n",
            "ΛCDM significantly better than DF: 30 galaxies\n",
            "DF significantly better than ΛCDM: 63 galaxies\n",
            "MOND significantly better than EG: 77 galaxies\n",
            "EG significantly better than MOND: 48 galaxies\n",
            "MOND significantly better than DF: 30 galaxies\n",
            "DF significantly better than MOND: 77 galaxies\n",
            "EG significantly better than DF: 15 galaxies\n",
            "DF significantly better than EG: 89 galaxies\n",
            "\n",
            "Mean AIC difference:\n",
            "ΛCDM vs MOND: 129.06\n",
            "ΛCDM vs EG: -34.39\n",
            "ΛCDM vs DF: 176.26\n",
            "MOND vs EG: -163.45\n",
            "MOND vs DF: 47.20\n",
            "EG vs DF: 210.65\n"
          ]
        },
        {
          "output_type": "stream",
          "name": "stderr",
          "text": [
            "\n"
          ]
        }
      ],
      "source": [
        "#@title HERE\n",
        "import numpy as np\n",
        "import pandas as pd\n",
        "import requests\n",
        "from scipy.optimize import minimize, differential_evolution\n",
        "from tqdm import tqdm\n",
        "from astropy import constants as const\n",
        "from astropy import units as u\n",
        "\n",
        "# Physical constants with correct units\n",
        "G = const.G.to(u.kpc * (u.km/u.s)**2 / u.M_sun).value  # (kpc*(km/s)^2/M_sun)\n",
        "a0 = 1.2e-10 * u.m/u.s**2  # MOND constant\n",
        "a0 = a0.to((u.km/u.s)**2 / u.kpc).value  # (km/s)^2/kpc\n",
        "\n",
        "# Correct handling of the Hubble constant\n",
        "H0 = 70.0 * u.km / u.s / u.Mpc  # 70 km/s/Mpc\n",
        "H0_kpc = H0.to(u.km / u.s / u.kpc).value  # Converting to (km/s)/kpc, will be ~0.07\n",
        "\n",
        "# Function to check converted units\n",
        "def check_units():\n",
        "    v200_test = 200.0  # km/s, typical value\n",
        "    r200_test = v200_test / (10 * H0_kpc)  # kpc\n",
        "\n",
        "    print(f\"Checking units of measurement:\")\n",
        "    print(f\"H0 = {H0} = {H0_kpc:.6f} (km/s)/kpc\")\n",
        "    print(f\"a0 = {a0:.6f} (km/s)²/kpc\")\n",
        "    print(f\"G = {G:.6f} kpc·(km/s)²/M_sun\")\n",
        "    print(f\"For v200 = {v200_test} km/s: r200 = {r200_test:.1f} kpc (should be ~200-300 kpc)\")\n",
        "\n",
        "def load_sparc_data():\n",
        "    \"\"\"Loading SPARC data with validation\"\"\"\n",
        "    url = \"http://astroweb.cwru.edu/SPARC/MassModels_Lelli2016c.mrt\"\n",
        "    print(\"Loading and validating SPARC data...\")\n",
        "\n",
        "    try:\n",
        "        response = requests.get(url, timeout=30)\n",
        "        lines = [line for line in response.text.split('\\n')[34:] if line.strip()]\n",
        "\n",
        "        galaxies = {}\n",
        "        current_galaxy = None\n",
        "\n",
        "        for line in lines:\n",
        "            try:\n",
        "                galaxy_id = line[:12].strip()\n",
        "                if galaxy_id != current_galaxy:\n",
        "                    current_galaxy = galaxy_id\n",
        "                    galaxies[galaxy_id] = []\n",
        "\n",
        "                # Data validation and conversion\n",
        "                data_point = {\n",
        "                    'R': max(float(line[19:25].strip()), 0.01),  # Radius (kpc) > 0\n",
        "                    'Vobs': max(float(line[26:32].strip()), 0.1), # Velocity > 0\n",
        "                    'e_Vobs': max(float(line[33:38].strip() or 1.0), 0.5),  # Error ≥ 0.5 km/s\n",
        "                    'Vgas': max(float(line[39:45].strip()), 0),\n",
        "                    'Vdisk': max(float(line[46:52].strip()), 0),\n",
        "                    'Vbul': max(float(line[53:59].strip()), 0)\n",
        "                }\n",
        "\n",
        "                # Additional checks to filter outliers\n",
        "                #if data_point['R'] > 100 or data_point['Vobs'] > 500:\n",
        "                #    continue\n",
        "\n",
        "                galaxies[galaxy_id].append(data_point)\n",
        "            except Exception:\n",
        "                continue\n",
        "\n",
        "        # Filtering: minimum 10 points with R > 0.1 kpc\n",
        "        galaxies_filtered = {}\n",
        "        for name, data in galaxies.items():\n",
        "            valid_points = [d for d in data if d['R'] > 0.1]\n",
        "            if len(valid_points) >= 5:\n",
        "                galaxies_filtered[name] = valid_points\n",
        "\n",
        "        print(f\"Loaded {len(galaxies_filtered)} galaxies from {len(galaxies)} original ones\")\n",
        "        return galaxies_filtered\n",
        "\n",
        "    except Exception as e:\n",
        "        print(f\"Loading error: {str(e)}\")\n",
        "        return {}\n",
        "\n",
        "def v_baryonic(r, md, mb, v_gas, v_disk, v_bul):\n",
        "    \"\"\"Baryonic component of rotation curve\"\"\"\n",
        "    # Ensuring physical values for mass-to-light ratios\n",
        "    md = np.clip(md, 0.1, 10.0)  # M/L for disk within reasonable limits\n",
        "    mb = np.clip(mb, 0.1, 10.0)  # M/L for bulge within reasonable limits\n",
        "\n",
        "    # Quadratic addition of velocity components\n",
        "    return np.sqrt(v_gas**2 + (md*v_disk)**2 + (mb*v_bul)**2)\n",
        "\n",
        "def v_lcdm(r, v200, c, md, mb, v_gas, v_disk, v_bul):\n",
        "    \"\"\"ΛCDM model with NFW dark matter profile\n",
        "\n",
        "    NFW profile formula for velocity (in classic form from literature):\n",
        "    V_DM^2(r) = V_200^2 * [ln(1+x) - x/(1+x)] / [x * (ln(1+c) - c/(1+c))]\n",
        "    where x = r/rs, rs = r200/c, r200 = V200/(10 * H0)\n",
        "    \"\"\"\n",
        "    try:\n",
        "        # Baryonic component\n",
        "        v_bar = v_baryonic(r, md, mb, v_gas, v_disk, v_bul)\n",
        "\n",
        "        # NFW profile parameters with physical constraints\n",
        "        v200 = np.clip(v200, 50, 350)  # km/s\n",
        "        c = np.clip(c, 3, 40)          # typical range for concentration\n",
        "\n",
        "        # Critical radius, correct calculation in kpc\n",
        "        # r200 = V200 / (10 * H0), where H0 in (km/s)/kpc\n",
        "        r200 = v200 / (10 * H0_kpc)  # r200 in kpc\n",
        "        rs = r200 / c                # scale radius in kpc\n",
        "\n",
        "        # Dimensionless distance\n",
        "        x = r / (rs + 1e-10)  # adding a small number to avoid division by zero\n",
        "\n",
        "        # NFW profile for velocity - classic formula\n",
        "        f_c = np.log(1 + c) - c / (1 + c)  # normalization factor for the profile\n",
        "\n",
        "        # Calculation of velocity squared from dark matter\n",
        "        v_dm_sq = np.zeros_like(r)\n",
        "        mask = (x > 0) & np.isfinite(x)\n",
        "\n",
        "        if np.any(mask):\n",
        "            # Standard NFW formula for contribution to velocity squared\n",
        "            v_dm_sq[mask] = v200**2 * (np.log(1 + x[mask]) - x[mask] / (1 + x[mask])) / (x[mask] * f_c)\n",
        "\n",
        "        # Protection against negative values due to numerical errors\n",
        "        v_dm_sq = np.maximum(v_dm_sq, 0)\n",
        "\n",
        "        # Total velocity - quadratic addition of baryonic and dark components\n",
        "        return np.sqrt(v_bar**2 + v_dm_sq)\n",
        "\n",
        "    except Exception as e:\n",
        "        print(f\"Error in ΛCDM: {str(e)}\")\n",
        "        return np.full_like(r, np.nan)\n",
        "\n",
        "def v_mond(r, md, mb, v_gas, v_disk, v_bul):\n",
        "    \"\"\"MOND model with standard interpolation function\n",
        "\n",
        "    In MOND, the observed acceleration is related to the Newtonian one:\n",
        "    a_obs = a_N * ν(a_N/a0)\n",
        "\n",
        "    For \"standard\" interpolation:\n",
        "    ν(y) = 0.5 * (1 + √(1 + 4/y))\n",
        "    \"\"\"\n",
        "    try:\n",
        "        # Baryonic component\n",
        "        v_bar = v_baryonic(r, md, mb, v_gas, v_disk, v_bul)\n",
        "\n",
        "        # Safe radius for acceleration calculation\n",
        "        r_safe = np.maximum(r, 0.01)  # Avoid division by 0\n",
        "\n",
        "        # Newtonian acceleration from visible matter (a_N = v_bar^2 / r)\n",
        "        a_N = v_bar**2 / r_safe\n",
        "\n",
        "        # Dimensionless parameter y = a_N/a0\n",
        "        y = a_N / a0\n",
        "        y_safe = np.maximum(y, 1e-10)  # Avoid division by very small numbers\n",
        "\n",
        "        # Use \"standard\" interpolation function (McGaugh et al. 2016)\n",
        "        # ν(y) = 0.5 * (1 + sqrt(1 + 4/y))\n",
        "        nu = 0.5 * (1.0 + np.sqrt(1.0 + 4.0 / y_safe))\n",
        "\n",
        "        # MOND acceleration: a_obs = a_N * ν(a_N/a0)\n",
        "        a_obs = a_N * nu\n",
        "\n",
        "        # Velocity from acceleration: v^2 = a * r\n",
        "        v_mond = np.sqrt(a_obs * r_safe)\n",
        "\n",
        "        return v_mond\n",
        "\n",
        "    except Exception as e:\n",
        "        print(f\"Error in MOND: {str(e)}\")\n",
        "        return np.full_like(r, np.nan)\n",
        "\n",
        "def v_eg(r, md, mb, v_gas, v_disk, v_bul):\n",
        "    \"\"\"Emergent Gravity model (Verlinde 2016)\n",
        "\n",
        "    In Verlinde's theory, the additional acceleration:\n",
        "    a_D = sqrt(a0 * G * M_bar / (6 * r^2))\n",
        "\n",
        "    Corresponding velocity:\n",
        "    v_D^2 = a_D * r\n",
        "    \"\"\"\n",
        "    try:\n",
        "        # Baryonic component\n",
        "        v_bar = v_baryonic(r, md, mb, v_gas, v_disk, v_bul)\n",
        "\n",
        "        # Safe radius for acceleration calculation\n",
        "        r_safe = np.maximum(r, 0.01)  # Avoid division by 0\n",
        "\n",
        "        # Estimation of baryonic mass at radius r (M_bar ∝ r * v_bar^2 / G)\n",
        "        M_bar_prop = r_safe * v_bar**2 / G\n",
        "\n",
        "        # Calculate acceleration from Emergent Gravity\n",
        "        # a_D = sqrt(a0 * G * M_bar / (6 * r^2))\n",
        "        a_D = np.sqrt(a0 * G * M_bar_prop / (6.0 * r_safe**2))\n",
        "\n",
        "        # Calculate contribution to velocity squared: v_D^2 = a_D * r\n",
        "        v_de_sq = a_D * r_safe\n",
        "\n",
        "        # Total velocity - quadratic addition of baryonic and DE components\n",
        "        return np.sqrt(v_bar**2 + v_de_sq)\n",
        "\n",
        "    except Exception as e:\n",
        "        print(f\"Error in EG: {str(e)}\")\n",
        "        return np.full_like(r, np.nan)\n",
        "\n",
        "def v_dimensional_flow(r, md, mb, r0, v_gas, v_disk, v_bul):\n",
        "    \"\"\"Dimensional Flow model with variable space dimensionality\n",
        "\n",
        "    In this model, the effective space dimension d_eff = 3 - δ(r) changes with distance,\n",
        "    where δ(r) is the dimension deficit:\n",
        "    δ(r) = δ_0 * (1 + (r_0/r)^β)^(-1)\n",
        "\n",
        "    For galactic rotation curves, we use spatial dependence of parameters.\n",
        "    According to the paper, δ₀ = 0.71, and β ≈ 0.4-0.5 (calculated based on α = 0.95)\n",
        "\n",
        "    Acceleration in this model:\n",
        "    a(r) = G_eff(r) * M(r) / r^(2-δ(r))\n",
        "    \"\"\"\n",
        "    try:\n",
        "        # Stricter constraints on parameters for stability\n",
        "        md = np.clip(md, 0.1, 10.0)  # M/L for disk\n",
        "        mb = np.clip(mb, 0.1, 10.0)  # M/L for bulge\n",
        "        r0 = np.clip(r0, 0.1, 200.0)  # Characteristic transition radius in kpc\n",
        "\n",
        "        # Fixed model parameters according to the paper\n",
        "        delta0 = 0.71  # Maximum dimension deficit from the paper\n",
        "        beta = 0.45    # β ≈ 0.4-0.5 according to the relation with α = 0.95\n",
        "        #delta0 = np.clip(delta0, 0.1, 0.99)  # Maximum dimension deficit (should be < 1)\n",
        "        #beta = np.clip(beta, 0.1, 2.0)  # Power exponent\n",
        "\n",
        "        # Safe handling of radii to avoid division by zero\n",
        "        r_safe = np.maximum(r, 0.01)  # Minimum radius 0.01 kpc\n",
        "\n",
        "        # Safe calculation of dimension deficit\n",
        "        ratio = r0 / r_safe\n",
        "        # Limit the ratio r0/r to avoid overflow\n",
        "        ratio = np.clip(ratio, 0.0, 1.0e4)\n",
        "\n",
        "        # Calculate dimension deficit with additional checks\n",
        "        try:\n",
        "            power_term = ratio**beta\n",
        "            # Limit the power term for numerical stability\n",
        "            power_term = np.clip(power_term, 0.0, 1.0e6)\n",
        "            delta_r = delta0 / (1.0 + power_term)\n",
        "        except:\n",
        "            # In case of calculation problems, use approximation\n",
        "            delta_r = np.where(r_safe > r0, delta0, delta0 * r_safe / r0)\n",
        "\n",
        "        # Additionally limit delta values for stability\n",
        "        delta_r = np.clip(delta_r, 0.0, 0.99)\n",
        "\n",
        "        # Baryonic velocity with protection against negative values\n",
        "        v_gas_safe = np.maximum(v_gas, 0.0)\n",
        "        v_disk_safe = np.maximum(v_disk, 0.0)\n",
        "        v_bul_safe = np.maximum(v_bul, 0.0)\n",
        "\n",
        "        v_bar_sq = v_gas_safe**2 + (md*v_disk_safe)**2 + (mb*v_bul_safe)**2\n",
        "        v_bar = np.sqrt(v_bar_sq)\n",
        "\n",
        "        # Modifying factor for velocity (safe power calculation)\n",
        "        delta_r_half = delta_r / 2.0\n",
        "        if np.any(delta_r_half > 0.0):\n",
        "            # Safe power calculation\n",
        "            power_factor = np.ones_like(r_safe)\n",
        "            nonzero_mask = delta_r_half > 0.0\n",
        "            if np.any(nonzero_mask):\n",
        "                # Use logarithm for more stable calculation\n",
        "                log_r = np.log(r_safe[nonzero_mask])\n",
        "                power_factor[nonzero_mask] = np.exp(delta_r_half[nonzero_mask] * log_r)\n",
        "            return v_bar * power_factor\n",
        "        else:\n",
        "            # If deficit is zero, return just baryonic velocity\n",
        "            return v_bar\n",
        "\n",
        "    except Exception as e:\n",
        "        print(f\"Error in Dimensional Flow: {str(e)}\")\n",
        "        return np.full_like(r, np.nan)\n",
        "\n",
        "def robust_fit(model_func, r, v_obs, v_err, v_gas, v_disk, v_bul):\n",
        "    \"\"\"Robust model fitting with improved optimization parameters\"\"\"\n",
        "\n",
        "    # Number of parameters for different models\n",
        "    if model_func == v_lcdm:\n",
        "        n_params = 4\n",
        "        bounds = [(50, 450), (1, 60), (0.1, 5.0), (0.1, 5.0)]\n",
        "        x0 = [200, 10, 0.7, 0.7]\n",
        "    elif model_func == v_dimensional_flow:\n",
        "        n_params = 3\n",
        "        # IMPORTANT CHANGE: Extended bounds for DF\n",
        "        bounds = [(0.1, 10.0), (0.1, 10.0), (0.1, 200.0)]\n",
        "        x0 = [0.7, 0.7, 2.0]\n",
        "    else:\n",
        "        n_params = 2\n",
        "        bounds = [(0.2, 5.0), (0.2, 5.0)]\n",
        "        x0 = [0.7, 0.7]\n",
        "\n",
        "    def chi2_func(params):\n",
        "        v_pred = model_func(r, *params, v_gas, v_disk, v_bul)\n",
        "        if np.any(np.isnan(v_pred)) or np.any(np.isinf(v_pred)):\n",
        "            return np.inf\n",
        "        errors = np.maximum(v_err, 2.0)\n",
        "        chi2_val = np.sum(((v_obs - v_pred) / errors)**2)\n",
        "        return chi2_val\n",
        "\n",
        "    # Using global optimization for DF and ΛCDM\n",
        "    if model_func in [v_lcdm, v_dimensional_flow]:\n",
        "        result = differential_evolution(\n",
        "            chi2_func, bounds, maxiter=300, popsize=30, tol=0.01,\n",
        "            mutation=(0.5, 0.9), recombination=0.8, polish=True\n",
        "        )\n",
        "        if result.success and result.fun < np.inf:\n",
        "            return result.fun, n_params, result.x\n",
        "\n",
        "    # Local methods\n",
        "    methods = ['Nelder-Mead', 'Powell', 'SLSQP', 'L-BFGS-B']\n",
        "    best_result = None\n",
        "\n",
        "    for method in methods:\n",
        "        result = minimize(chi2_func, x0, method=method, bounds=bounds,\n",
        "                          options={'maxiter':5000, 'xatol':1e-8, 'ftol':1e-8})\n",
        "        if result.success and (best_result is None or result.fun < best_result.fun):\n",
        "            best_result = result\n",
        "\n",
        "    # If local methods didn't work, try global again\n",
        "    if best_result is None or not best_result.success:\n",
        "        result = differential_evolution(\n",
        "            chi2_func, bounds, maxiter=300, popsize=30, tol=0.01,\n",
        "            mutation=(0.5, 0.9), recombination=0.8, polish=True\n",
        "        )\n",
        "        if result.success:\n",
        "            best_result = result\n",
        "\n",
        "    if best_result is not None and best_result.success:\n",
        "        return best_result.fun, n_params, best_result.x\n",
        "\n",
        "    return np.nan, n_params, np.array([np.nan]*n_params)\n",
        "\n",
        "def calc_metrics(chi2, n_params, n_points):\n",
        "    \"\"\"Calculation of statistical metrics for model comparison\"\"\"\n",
        "    if np.isnan(chi2) or n_points <= n_params:\n",
        "        return np.nan, np.nan, np.nan\n",
        "\n",
        "    # Degrees of freedom\n",
        "    dof = n_points - n_params\n",
        "\n",
        "    # Reduced χ² (should be ~1 for a good model)\n",
        "    chi2_red = chi2 / dof\n",
        "\n",
        "    # Akaike Information Criterion (AIC)\n",
        "    # AIC = χ² + 2k, where k is the number of parameters\n",
        "    aic = chi2 + 2 * n_params\n",
        "\n",
        "    # Bayesian Information Criterion (BIC)\n",
        "    # BIC = χ² + k*ln(n), where n is the number of points\n",
        "    bic = chi2 + n_params * np.log(n_points)\n",
        "\n",
        "    return chi2_red, aic, bic\n",
        "\n",
        "def analyze_galaxy(galaxy_name, galaxy_data):\n",
        "    \"\"\"Complete analysis of one galaxy\"\"\"\n",
        "    try:\n",
        "        # Data preparation\n",
        "        r = np.array([d['R'] for d in galaxy_data])\n",
        "        v_obs = np.array([d['Vobs'] for d in galaxy_data])\n",
        "        v_err = np.array([d['e_Vobs'] for d in galaxy_data])\n",
        "        v_gas = np.array([d['Vgas'] for d in galaxy_data])\n",
        "        v_disk = np.array([d['Vdisk'] for d in galaxy_data])\n",
        "        v_bul = np.array([d['Vbul'] for d in galaxy_data])\n",
        "\n",
        "        n_points = len(r)\n",
        "\n",
        "        # Model fitting\n",
        "        lcdm_chi2, lcdm_nparams, lcdm_params = robust_fit(v_lcdm, r, v_obs, v_err, v_gas, v_disk, v_bul)\n",
        "        mond_chi2, mond_nparams, mond_params = robust_fit(v_mond, r, v_obs, v_err, v_gas, v_disk, v_bul)\n",
        "        eg_chi2, eg_nparams, eg_params = robust_fit(v_eg, r, v_obs, v_err, v_gas, v_disk, v_bul)\n",
        "        df_chi2, df_nparams, df_params = robust_fit(v_dimensional_flow, r, v_obs, v_err, v_gas, v_disk, v_bul)\n",
        "\n",
        "        # Calculation of comparison metrics\n",
        "        lcdm_metrics = calc_metrics(lcdm_chi2, lcdm_nparams, n_points)\n",
        "        mond_metrics = calc_metrics(mond_chi2, mond_nparams, n_points)\n",
        "        eg_metrics = calc_metrics(eg_chi2, eg_nparams, n_points)\n",
        "        df_metrics = calc_metrics(df_chi2, df_nparams, n_points)\n",
        "\n",
        "        # Optimal parameter values for verification\n",
        "        # Check that parameters have reasonable values and don't hit boundaries\n",
        "        if not np.isnan(lcdm_params[0]) and len(lcdm_params) > 1:\n",
        "            v200 = lcdm_params[0]\n",
        "            c = lcdm_params[1]\n",
        "            # Calculate characteristic scales for verification\n",
        "            r200 = v200 / (10 * H0_kpc)\n",
        "            rs = r200 / c\n",
        "            print(f\"{galaxy_name}: v200={v200:.1f} km/s, c={c:.1f}, r200={r200:.1f} kpc, rs={rs:.1f} kpc\")\n",
        "\n",
        "        # Also output Dimensional Flow model parameters\n",
        "        if not np.isnan(df_params[0]) and len(df_params) >= 3:\n",
        "            md_df = df_params[0]\n",
        "            mb_df = df_params[1]\n",
        "            r0 = df_params[2]\n",
        "            # Fixed model parameters\n",
        "            delta0 = 0.71  # Maximum dimension deficit from the paper\n",
        "            beta = 0.45    # β ≈ 0.4-0.5 according to the paper\n",
        "            print(f\"{galaxy_name} (DF): md={md_df:.2f}, mb={mb_df:.2f}, r0={r0:.2f} kpc, delta0={delta0:.2f}, beta={beta:.2f}\")\n",
        "\n",
        "        # Collecting results\n",
        "        result = {\n",
        "            'Galaxy': galaxy_name,\n",
        "            'n_points': n_points,\n",
        "            # Model parameters\n",
        "            'LCDM_v200': lcdm_params[0] if not np.isnan(lcdm_params[0]) else np.nan,\n",
        "            'LCDM_c': lcdm_params[1] if len(lcdm_params) > 1 and not np.isnan(lcdm_params[1]) else np.nan,\n",
        "            'LCDM_md': lcdm_params[2] if len(lcdm_params) > 2 and not np.isnan(lcdm_params[2]) else np.nan,\n",
        "            'LCDM_mb': lcdm_params[3] if len(lcdm_params) > 3 and not np.isnan(lcdm_params[3]) else np.nan,\n",
        "            'MOND_md': mond_params[0] if not np.isnan(mond_params[0]) else np.nan,\n",
        "            'MOND_mb': mond_params[1] if len(mond_params) > 1 and not np.isnan(mond_params[1]) else np.nan,\n",
        "            'EG_md': eg_params[0] if not np.isnan(eg_params[0]) else np.nan,\n",
        "            'EG_mb': eg_params[1] if len(eg_params) > 1 and not np.isnan(eg_params[1]) else np.nan,\n",
        "            'DF_md': df_params[0] if not np.isnan(df_params[0]) else np.nan,\n",
        "            'DF_mb': df_params[1] if len(df_params) > 1 and not np.isnan(df_params[1]) else np.nan,\n",
        "            'DF_r0': df_params[2] if len(df_params) > 2 and not np.isnan(df_params[2]) else np.nan,\n",
        "            # Metrics\n",
        "            'LCDM_chi2': lcdm_metrics[0],  # reduced χ²\n",
        "            'MOND_chi2': mond_metrics[0],\n",
        "            'EG_chi2': eg_metrics[0],\n",
        "            'DF_chi2': df_metrics[0],\n",
        "            'LCDM_AIC': lcdm_metrics[1],\n",
        "            'MOND_AIC': mond_metrics[1],\n",
        "            'EG_AIC': eg_metrics[1],\n",
        "            'DF_AIC': df_metrics[1],\n",
        "            'LCDM_BIC': lcdm_metrics[2],\n",
        "            'MOND_BIC': mond_metrics[2],\n",
        "            'EG_BIC': eg_metrics[2],\n",
        "            'DF_BIC': df_metrics[2],\n",
        "            # Also save raw χ²\n",
        "            'LCDM_raw_chi2': lcdm_chi2,\n",
        "            'MOND_raw_chi2': mond_chi2,\n",
        "            'EG_raw_chi2': eg_chi2,\n",
        "            'DF_raw_chi2': df_chi2\n",
        "        }\n",
        "\n",
        "        return result\n",
        "\n",
        "    except Exception as e:\n",
        "        print(f\"Error analyzing galaxy {galaxy_name}: {str(e)}\")\n",
        "        return None\n",
        "\n",
        "def main():\n",
        "    \"\"\"Main galaxy analysis function\"\"\"\n",
        "    # Check correctness of units\n",
        "    check_units()\n",
        "\n",
        "    # Data loading\n",
        "    galaxies = load_sparc_data()\n",
        "    if not galaxies:\n",
        "        print(\"Failed to load data\")\n",
        "        return None, None\n",
        "\n",
        "    # Analysis of all galaxies\n",
        "    print(f\"Total galaxies loaded: {len(galaxies)}\")\n",
        "    sample = list(galaxies.items())\n",
        "    results = []\n",
        "\n",
        "    # Analysis with progress display\n",
        "    for galaxy_name, galaxy_data in tqdm(sample, desc=\"Analyzing galaxies\"):\n",
        "        result = analyze_galaxy(galaxy_name, galaxy_data)\n",
        "        if result:\n",
        "            results.append(result)\n",
        "\n",
        "    # If no results\n",
        "    if not results:\n",
        "        print(\"No results for analysis\")\n",
        "        return None, None\n",
        "\n",
        "    # Create DataFrame\n",
        "    df = pd.DataFrame(results)\n",
        "\n",
        "    # Statistics on NaN values\n",
        "    print(f\"Total results obtained: {len(df)}\")\n",
        "    print(f\"Number of NaN values: LCDM={df['LCDM_chi2'].isna().sum()}, \"\n",
        "          f\"MOND={df['MOND_chi2'].isna().sum()}, EG={df['EG_chi2'].isna().sum()}, \"\n",
        "          f\"DF={df['DF_chi2'].isna().sum()}\")\n",
        "\n",
        "    # Determine best model by χ²\n",
        "    df['best_model_chi2'] = df.apply(\n",
        "        lambda row: 'ΛCDM' if row['LCDM_chi2'] == min(\n",
        "            row['LCDM_chi2'] if not pd.isna(row['LCDM_chi2']) else np.inf,\n",
        "            row['MOND_chi2'] if not pd.isna(row['MOND_chi2']) else np.inf,\n",
        "            row['EG_chi2'] if not pd.isna(row['EG_chi2']) else np.inf,\n",
        "            row['DF_chi2'] if not pd.isna(row['DF_chi2']) else np.inf\n",
        "        ) and not pd.isna(row['LCDM_chi2']) else (\n",
        "            'MOND' if row['MOND_chi2'] == min(\n",
        "                row['LCDM_chi2'] if not pd.isna(row['LCDM_chi2']) else np.inf,\n",
        "                row['MOND_chi2'] if not pd.isna(row['MOND_chi2']) else np.inf,\n",
        "                row['EG_chi2'] if not pd.isna(row['EG_chi2']) else np.inf,\n",
        "                row['DF_chi2'] if not pd.isna(row['DF_chi2']) else np.inf\n",
        "            ) and not pd.isna(row['MOND_chi2']) else (\n",
        "                'EG' if row['EG_chi2'] == min(\n",
        "                    row['LCDM_chi2'] if not pd.isna(row['LCDM_chi2']) else np.inf,\n",
        "                    row['MOND_chi2'] if not pd.isna(row['MOND_chi2']) else np.inf,\n",
        "                    row['EG_chi2'] if not pd.isna(row['EG_chi2']) else np.inf,\n",
        "                    row['DF_chi2'] if not pd.isna(row['DF_chi2']) else np.inf\n",
        "                ) and not pd.isna(row['EG_chi2']) else 'DF'\n",
        "            )\n",
        "        ), axis=1\n",
        "    )\n",
        "\n",
        "    # Determine best model by AIC (accounts for model complexity)\n",
        "    df['best_model_aic'] = df.apply(\n",
        "        lambda row: 'ΛCDM' if row['LCDM_AIC'] == min(\n",
        "            row['LCDM_AIC'] if not pd.isna(row['LCDM_AIC']) else np.inf,\n",
        "            row['MOND_AIC'] if not pd.isna(row['MOND_AIC']) else np.inf,\n",
        "            row['EG_AIC'] if not pd.isna(row['EG_AIC']) else np.inf,\n",
        "            row['DF_AIC'] if not pd.isna(row['DF_AIC']) else np.inf\n",
        "        ) and not pd.isna(row['LCDM_AIC']) else (\n",
        "            'MOND' if row['MOND_AIC'] == min(\n",
        "                row['LCDM_AIC'] if not pd.isna(row['LCDM_AIC']) else np.inf,\n",
        "                row['MOND_AIC'] if not pd.isna(row['MOND_AIC']) else np.inf,\n",
        "                row['EG_AIC'] if not pd.isna(row['EG_AIC']) else np.inf,\n",
        "                row['DF_AIC'] if not pd.isna(row['DF_AIC']) else np.inf\n",
        "            ) and not pd.isna(row['MOND_AIC']) else (\n",
        "                'EG' if row['EG_AIC'] == min(\n",
        "                    row['LCDM_AIC'] if not pd.isna(row['LCDM_AIC']) else np.inf,\n",
        "                    row['MOND_AIC'] if not pd.isna(row['MOND_AIC']) else np.inf,\n",
        "                    row['EG_AIC'] if not pd.isna(row['EG_AIC']) else np.inf,\n",
        "                    row['DF_AIC'] if not pd.isna(row['DF_AIC']) else np.inf\n",
        "                ) and not pd.isna(row['EG_AIC']) else 'DF'\n",
        "            )\n",
        "        ), axis=1\n",
        "    )\n",
        "\n",
        "    # Output results for individual galaxies\n",
        "    df['min_chi2'] = df[['LCDM_chi2', 'MOND_chi2', 'EG_chi2', 'DF_chi2']].min(axis=1)\n",
        "    df_sorted = df.sort_values('min_chi2')\n",
        "\n",
        "    print(\"\\nResults for individual galaxies (sorted by best χ²):\")\n",
        "    print(df_sorted[['Galaxy', 'n_points', 'best_model_chi2',\n",
        "                     'LCDM_chi2', 'MOND_chi2', 'EG_chi2', 'DF_chi2',\n",
        "                     'LCDM_AIC', 'MOND_AIC', 'EG_AIC', 'DF_AIC']].head(20).to_string(index=False))\n",
        "\n",
        "    # Output of model parameters\n",
        "    print(\"\\nExamples of model parameters for several galaxies:\")\n",
        "    param_cols = ['Galaxy', 'best_model_chi2',\n",
        "                  'LCDM_v200', 'LCDM_c', 'LCDM_md', 'LCDM_mb',\n",
        "                  'MOND_md', 'MOND_mb',\n",
        "                  'EG_md', 'EG_mb',\n",
        "                  'DF_md', 'DF_mb', 'DF_r0']\n",
        "    print(df_sorted[param_cols].head(10).to_string(index=False))\n",
        "\n",
        "    # Count of best models\n",
        "    chi2_counts = df['best_model_chi2'].value_counts()\n",
        "    aic_counts = df['best_model_aic'].value_counts()\n",
        "\n",
        "    print(\"\\nDistribution of best models by χ²:\")\n",
        "    for model in ['ΛCDM', 'MOND', 'EG', 'DF']:\n",
        "        count = chi2_counts.get(model, 0)\n",
        "        print(f\"{model}: {count} galaxies ({count/len(df)*100:.1f}%)\")\n",
        "\n",
        "    print(\"\\nDistribution of best models by AIC (accounting for complexity):\")\n",
        "    for model in ['ΛCDM', 'MOND', 'EG', 'DF']:\n",
        "        count = aic_counts.get(model, 0)\n",
        "        print(f\"{model}: {count} galaxies ({count/len(df)*100:.1f}%)\")\n",
        "\n",
        "    # Summary statistics\n",
        "    summary = pd.DataFrame({\n",
        "        'Model': ['ΛCDM', 'MOND', 'EG', 'DF'],\n",
        "        'Parameters': [4, 2, 2, 3],  # Number of parameters in each model\n",
        "        'Mean_χ²': [\n",
        "            df['LCDM_chi2'].mean(),\n",
        "            df['MOND_chi2'].mean(),\n",
        "            df['EG_chi2'].mean(),\n",
        "            df['DF_chi2'].mean()\n",
        "        ],\n",
        "        'Median_χ²': [\n",
        "            df['LCDM_chi2'].median(),\n",
        "            df['MOND_chi2'].median(),\n",
        "            df['EG_chi2'].median(),\n",
        "            df['DF_chi2'].median()\n",
        "        ],\n",
        "        'Mean_AIC': [\n",
        "            df['LCDM_AIC'].mean(),\n",
        "            df['MOND_AIC'].mean(),\n",
        "            df['EG_AIC'].mean(),\n",
        "            df['DF_AIC'].mean()\n",
        "        ],\n",
        "        'Median_AIC': [\n",
        "            df['LCDM_AIC'].median(),\n",
        "            df['MOND_AIC'].median(),\n",
        "            df['EG_AIC'].median(),\n",
        "            df['DF_AIC'].median()\n",
        "        ],\n",
        "        'Best_by_χ²': [\n",
        "            chi2_counts.get('ΛCDM', 0),\n",
        "            chi2_counts.get('MOND', 0),\n",
        "            chi2_counts.get('EG', 0),\n",
        "            chi2_counts.get('DF', 0)\n",
        "        ],\n",
        "        'Best_by_χ²(%)': [\n",
        "            chi2_counts.get('ΛCDM', 0) / len(df) * 100,\n",
        "            chi2_counts.get('MOND', 0) / len(df) * 100,\n",
        "            chi2_counts.get('EG', 0) / len(df) * 100,\n",
        "            chi2_counts.get('DF', 0) / len(df) * 100\n",
        "        ],\n",
        "        'Best_by_AIC': [\n",
        "            aic_counts.get('ΛCDM', 0),\n",
        "            aic_counts.get('MOND', 0),\n",
        "            aic_counts.get('EG', 0),\n",
        "            aic_counts.get('DF', 0)\n",
        "        ],\n",
        "        'Best_by_AIC(%)': [\n",
        "            aic_counts.get('ΛCDM', 0) / len(df) * 100,\n",
        "            aic_counts.get('MOND', 0) / len(df) * 100,\n",
        "            aic_counts.get('EG', 0) / len(df) * 100,\n",
        "            aic_counts.get('DF', 0) / len(df) * 100\n",
        "        ],\n",
        "        'Success_rate(%)': [\n",
        "            100 * (1 - df['LCDM_chi2'].isna().mean()),\n",
        "            100 * (1 - df['MOND_chi2'].isna().mean()),\n",
        "            100 * (1 - df['EG_chi2'].isna().mean()),\n",
        "            100 * (1 - df['DF_chi2'].isna().mean())\n",
        "        ]\n",
        "    })\n",
        "\n",
        "    print(\"\\nSummary statistics:\")\n",
        "    print(summary.to_string(index=False))\n",
        "\n",
        "    # Statistical analysis of differences between models\n",
        "    print(\"\\nStatistical analysis of differences between models:\")\n",
        "\n",
        "    # Calculate AIC difference for each pair of models\n",
        "    valid_mask = (~df['LCDM_AIC'].isna()) & (~df['MOND_AIC'].isna()) & (~df['EG_AIC'].isna()) & (~df['DF_AIC'].isna())\n",
        "\n",
        "    if valid_mask.sum() > 5:  # If there is enough data for comparison\n",
        "        df_valid = df[valid_mask]\n",
        "\n",
        "        # AIC difference (positive difference means the second model is better)\n",
        "        lcdm_vs_mond = df_valid['LCDM_AIC'] - df_valid['MOND_AIC']\n",
        "        lcdm_vs_eg = df_valid['LCDM_AIC'] - df_valid['EG_AIC']\n",
        "        lcdm_vs_df = df_valid['LCDM_AIC'] - df_valid['DF_AIC']\n",
        "        mond_vs_eg = df_valid['MOND_AIC'] - df_valid['EG_AIC']\n",
        "        mond_vs_df = df_valid['MOND_AIC'] - df_valid['DF_AIC']\n",
        "        eg_vs_df = df_valid['EG_AIC'] - df_valid['DF_AIC']\n",
        "\n",
        "        # Count of galaxies with significant difference (ΔAIC > 10 is considered strong evidence)\n",
        "        print(f\"ΛCDM significantly better than MOND: {(lcdm_vs_mond < -10).sum()} galaxies\")\n",
        "        print(f\"MOND significantly better than ΛCDM: {(lcdm_vs_mond > 10).sum()} galaxies\")\n",
        "        print(f\"ΛCDM significantly better than EG: {(lcdm_vs_eg < -10).sum()} galaxies\")\n",
        "        print(f\"EG significantly better than ΛCDM: {(lcdm_vs_eg > 10).sum()} galaxies\")\n",
        "        print(f\"ΛCDM significantly better than DF: {(lcdm_vs_df < -10).sum()} galaxies\")\n",
        "        print(f\"DF significantly better than ΛCDM: {(lcdm_vs_df > 10).sum()} galaxies\")\n",
        "        print(f\"MOND significantly better than EG: {(mond_vs_eg < -10).sum()} galaxies\")\n",
        "        print(f\"EG significantly better than MOND: {(mond_vs_eg > 10).sum()} galaxies\")\n",
        "        print(f\"MOND significantly better than DF: {(mond_vs_df < -10).sum()} galaxies\")\n",
        "        print(f\"DF significantly better than MOND: {(mond_vs_df > 10).sum()} galaxies\")\n",
        "        print(f\"EG significantly better than DF: {(eg_vs_df < -10).sum()} galaxies\")\n",
        "        print(f\"DF significantly better than EG: {(eg_vs_df > 10).sum()} galaxies\")\n",
        "\n",
        "        # Mean AIC difference\n",
        "        print(f\"\\nMean AIC difference:\")\n",
        "        print(f\"ΛCDM vs MOND: {lcdm_vs_mond.mean():.2f}\")\n",
        "        print(f\"ΛCDM vs EG: {lcdm_vs_eg.mean():.2f}\")\n",
        "        print(f\"ΛCDM vs DF: {lcdm_vs_df.mean():.2f}\")\n",
        "        print(f\"MOND vs EG: {mond_vs_eg.mean():.2f}\")\n",
        "        print(f\"MOND vs DF: {mond_vs_df.mean():.2f}\")\n",
        "        print(f\"EG vs DF: {eg_vs_df.mean():.2f}\")\n",
        "\n",
        "    return df, summary\n",
        "\n",
        "if __name__ == \"__main__\":\n",
        "    df, summary = main()"
      ]
    }
  ]
}